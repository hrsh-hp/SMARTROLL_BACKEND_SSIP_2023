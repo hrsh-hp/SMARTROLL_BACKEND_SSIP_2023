{
 "cells": [
  {
   "cell_type": "code",
   "execution_count": 1,
   "metadata": {},
   "outputs": [],
   "source": [
    "import pandas as pd\n",
    "import re\n",
    "import hashlib"
   ]
  },
  {
   "cell_type": "code",
   "execution_count": 2,
   "metadata": {},
   "outputs": [],
   "source": [
    "import os\n",
    "import django\n",
    "os.environ[\"DJANGO_ALLOW_ASYNC_UNSAFE\"] = \"true\""
   ]
  },
  {
   "cell_type": "code",
   "execution_count": 3,
   "metadata": {},
   "outputs": [
    {
     "data": {
      "text/plain": [
       "'SMARTROLL.settings'"
      ]
     },
     "execution_count": 3,
     "metadata": {},
     "output_type": "execute_result"
    }
   ],
   "source": [
    "os.environ.setdefault('DJANGO_SETTINGS_MODULE', 'SMARTROLL.settings')"
   ]
  },
  {
   "cell_type": "code",
   "execution_count": 4,
   "metadata": {},
   "outputs": [],
   "source": [
    "django.setup()"
   ]
  },
  {
   "cell_type": "code",
   "execution_count": 5,
   "metadata": {},
   "outputs": [],
   "source": [
    "from Manage.models import College,Term,Branch,Stream,Semester,Division,Batch,Subject,TimeTable,GPSCoordinates,Classroom,Schedule,Lecture,Link\n",
    "from Session.models import Attendance,Session\n",
    "from StakeHolders.models import NotificationSubscriptions,SuperAdmin,Admin,Teacher,Student\n",
    "from django.contrib.auth import get_user_model"
   ]
  },
  {
   "cell_type": "code",
   "execution_count": 6,
   "metadata": {},
   "outputs": [],
   "source": [
    "User = get_user_model()"
   ]
  },
  {
   "cell_type": "code",
   "execution_count": 7,
   "metadata": {},
   "outputs": [],
   "source": [
    "college_pattern = r\"(?P<college_name>[\\w\\s\\.]+)-(?P<college_code>\\d+)\"\n",
    "term_pattern = r\"(?P<start_year>\\d{4})-(?P<end_year>\\d{4})\"\n",
    "branch_pattern = r\"(?P<branch_name>[\\w\\s]+)-(?P<branch_code>\\d{2})\"\n",
    "college_info = {}\n",
    "term_info = {}\n",
    "branch_info = {}"
   ]
  },
  {
   "cell_type": "code",
   "execution_count": 8,
   "metadata": {},
   "outputs": [
    {
     "name": "stdout",
     "output_type": "stream",
     "text": [
      "L.D. College of Engineering\n",
      "Term - 2024 | 2025\n",
      "Computer Engineering | Term - 2024 | 2025\n"
     ]
    }
   ],
   "source": [
    "df = pd.read_csv('smartroll.csv')\n",
    "header_rows = df.iloc[:3].reset_index(drop=True)\n",
    "for i, value in enumerate(header_rows.iloc[:, 0]):\n",
    "    if i == 0:        \n",
    "        match = re.search(college_pattern, value)\n",
    "        if match:\n",
    "            college_info[\"college_name\"] = match.group(\"college_name\").strip()\n",
    "            college_info[\"college_code\"] = match.group(\"college_code\")\n",
    "    \n",
    "    elif i == 1:        \n",
    "        match = re.search(term_pattern, value)\n",
    "        if match:\n",
    "            term_info[\"start_year\"] = match.group(\"start_year\")\n",
    "            term_info[\"end_year\"] = match.group(\"end_year\")\n",
    "    \n",
    "    elif i == 2:        \n",
    "        match = re.search(branch_pattern, value)\n",
    "        if match:\n",
    "            branch_info[\"branch_name\"] = match.group(\"branch_name\").strip()\n",
    "            branch_info[\"branch_code\"] = match.group(\"branch_code\")\n",
    "\n",
    "# Get the college,Term, Branch Objects\n",
    "college_obj = College.objects.filter(code=college_info['college_code']).first()\n",
    "term_obj = Term.objects.filter(start_year=term_info['start_year'],end_year=term_info['end_year']).first()\n",
    "branch_obj = Branch.objects.filter(branch_code=branch_info['branch_code']).first()\n",
    "print(college_obj)\n",
    "print(term_obj)\n",
    "print(branch_obj)"
   ]
  },
  {
   "cell_type": "code",
   "execution_count": 9,
   "metadata": {},
   "outputs": [],
   "source": [
    "df.columns = df.iloc[3]\n",
    "df = df[4:].reset_index(drop=True)  \n",
    "faculties = list(df.columns[2:])"
   ]
  },
  {
   "cell_type": "code",
   "execution_count": 10,
   "metadata": {},
   "outputs": [],
   "source": [
    "BE_PATTERN = re.compile(r\"^(BE)-(\\d+)-([A-Z])(?:_([A-Z]\\d))?-([A-Z]+(?:-\\w+)?)-(\\w+)$\")\n",
    "ME_PATTERN = re.compile(r\"^(ME)-(\\d+)-([A-Z]+(?:-\\w+)?)-(\\d+)$\")\n",
    "TIME_PATTERN = re.compile(r\"^(\\d{2}:\\d{2})-(\\d{2}:\\d{2})$\")"
   ]
  },
  {
   "cell_type": "code",
   "execution_count": 11,
   "metadata": {},
   "outputs": [],
   "source": [
    "def parse_be_me_string(string):\n",
    "    # Try BE pattern first\n",
    "    be_match = BE_PATTERN.match(string)\n",
    "    if be_match:\n",
    "        course, sem, div, batch, sub, classroom = be_match.groups()\n",
    "        return {\n",
    "            \"stream\": course,\n",
    "            \"sem\": sem,\n",
    "            \"div\": div,\n",
    "            \"batch\": batch if batch else None,  # If no batch, set to None\n",
    "            \"sub\": sub,\n",
    "            \"classroom\": classroom\n",
    "        }\n",
    "    \n",
    "    # Try ME pattern\n",
    "    me_match = ME_PATTERN.match(string)\n",
    "    if me_match:\n",
    "        course, sem, sub, classroom = me_match.groups()\n",
    "        return {\n",
    "            \"stream\": course,\n",
    "            \"sem\": sem,\n",
    "            \"sub\": sub,\n",
    "            \"classroom\": classroom\n",
    "        }\n",
    "    \n",
    "    # If no pattern matches\n",
    "    return None\n",
    "\n",
    "def parse_time_string(time_string):\n",
    "    time_match = TIME_PATTERN.match(time_string)\n",
    "    if time_match:\n",
    "        start_time, end_time = time_match.groups()\n",
    "        return {\"start_time\": start_time, \"end_time\": end_time}\n",
    "    return None\n",
    "\n",
    "def hash_string(input_string):\n",
    "    # Convert the string to bytes\n",
    "    byte_string = input_string.encode()\n",
    "    # Create a SHA-256 hash of the byte string\n",
    "    hash_object = hashlib.sha256(byte_string)\n",
    "    # Return the hex representation of the hash\n",
    "    return hash_object.hexdigest()"
   ]
  },
  {
   "cell_type": "code",
   "execution_count": 35,
   "metadata": {},
   "outputs": [
    {
     "name": "stdout",
     "output_type": "stream",
     "text": [
      "Schedule for FRIDAY:\n",
      "\n",
      "Schedule for MONDAY:\n",
      "\n",
      "Schedule for SATURDAY:\n",
      "\n",
      "Schedule for THURSDAY:\n",
      "\n",
      "Schedule for TUESDAY:\n",
      "Batch - A1 | Division - A | Semester - 3 | Stream - ME | Computer Engineering | Term - 2024 | 2025\n",
      "Batch - A1 | Division - A | Semester - 1 | Stream - ME | Computer Engineering | Term - 2024 | 2025\n",
      "\n",
      "Schedule for WEDNESDAY:\n",
      "Batch - A1 | Division - A | Semester - 3 | Stream - ME | Computer Engineering | Term - 2024 | 2025\n",
      "\n"
     ]
    }
   ],
   "source": [
    "for day, day_data in df.groupby('DAY'):\n",
    "    print(f\"Schedule for {day}:\")\n",
    "    rows = list(day_data.iterrows())\n",
    "    i = 0\n",
    "    while i < len(rows):\n",
    "        index, row = rows[i]        \n",
    "        for faculty in faculties:                                  \n",
    "            time_info = parse_time_string(row['TIME'])\n",
    "            if time_info:\n",
    "                info = parse_be_me_string(row[faculty]) if pd.notna(row[faculty]) else None                \n",
    "                if pd.notna(row[faculty]):\n",
    "                    current_lecture_hash = hash_string(row[faculty])\n",
    "                    # Also check if next consecutive lecture is not the same as current\n",
    "                    if i < len(rows) - 1: \n",
    "                        next_row = rows[i+1][1]\n",
    "                        next_time_info = parse_time_string(next_row['TIME'])\n",
    "                        next_info = parse_be_me_string(next_row[faculty]) if pd.notna(next_row[faculty]) else None\n",
    "                        if pd.notna(next_row[faculty]):\n",
    "                            next_lecture_hash = hash_string(next_row[faculty])\n",
    "                            if next_lecture_hash == current_lecture_hash:\n",
    "                                time_info['end_time'] = next_time_info['end_time']\n",
    "                                rows[i+1][1][faculty] = None          \n",
    "                # Now we can store the lecture data\n",
    "                if info:\n",
    "                    # Get the stream first\n",
    "                    stream_obj = branch_obj.stream_set.filter(title=info['stream']).first()\n",
    "                    if stream_obj:\n",
    "                        # Get the semester                        \n",
    "                        semester_obj = stream_obj.semester_set.filter(no=info['sem']).first()\n",
    "                        if semester_obj:\n",
    "                            # get the division \n",
    "                            # For ME there will be only 1 division per semester                                                        \n",
    "                            if info['stream'] == 'ME':\n",
    "                                division_obj = semester_obj.division_set.first()\n",
    "                                #  Get the first batch object of the division\n",
    "                                batch_obj = division_obj.batch_set.first()                                \n",
    "                            elif info['stream'] == 'BE':\n",
    "                                division_obj = semester_obj.division_set.filter(division_name=info['div']).first()\n",
    "                                # Get the batch\n",
    "                                # We have to check if the lecture is for the whole class or single batch\n",
    "                                if info['batch']:\n",
    "                                    print(\"batch\")\n",
    "                                else:\n",
    "                                    print('All Batches')\n",
    "                                # batch_obj = division_obj.batch_set.filter(batch_name=)\n",
    "                                                          \n",
    "        i += 1\n",
    "    print()    "
   ]
  }
 ],
 "metadata": {
  "kernelspec": {
   "display_name": "venv",
   "language": "python",
   "name": "python3"
  },
  "language_info": {
   "codemirror_mode": {
    "name": "ipython",
    "version": 3
   },
   "file_extension": ".py",
   "mimetype": "text/x-python",
   "name": "python",
   "nbconvert_exporter": "python",
   "pygments_lexer": "ipython3",
   "version": "3.12.3"
  }
 },
 "nbformat": 4,
 "nbformat_minor": 2
}
