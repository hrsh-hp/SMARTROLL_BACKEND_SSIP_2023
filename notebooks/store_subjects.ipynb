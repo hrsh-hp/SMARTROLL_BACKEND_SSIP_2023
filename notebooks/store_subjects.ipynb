{
 "cells": [
  {
   "cell_type": "code",
   "execution_count": 1,
   "metadata": {},
   "outputs": [],
   "source": [
    "import pandas as pd\n",
    "import re\n",
    "import hashlib\n",
    "import json\n",
    "import sys"
   ]
  },
  {
   "cell_type": "code",
   "execution_count": 2,
   "metadata": {},
   "outputs": [],
   "source": [
    "import os\n",
    "import django\n",
    "os.environ[\"DJANGO_ALLOW_ASYNC_UNSAFE\"] = \"true\""
   ]
  },
  {
   "cell_type": "code",
   "execution_count": 3,
   "metadata": {},
   "outputs": [
    {
     "data": {
      "text/plain": [
       "'SMARTROLL.settings'"
      ]
     },
     "execution_count": 3,
     "metadata": {},
     "output_type": "execute_result"
    }
   ],
   "source": [
    "sys.path.append('..')\n",
    "os.environ.setdefault('DJANGO_SETTINGS_MODULE', 'SMARTROLL.settings')"
   ]
  },
  {
   "cell_type": "code",
   "execution_count": 4,
   "metadata": {},
   "outputs": [],
   "source": [
    "django.setup()"
   ]
  },
  {
   "cell_type": "code",
   "execution_count": 5,
   "metadata": {},
   "outputs": [],
   "source": [
    "from Manage.models import College,Term,Branch,Stream,Semester,Division,Batch,Subject,TimeTable,GPSCoordinates,Classroom,Schedule,Lecture,Link,PermanentSubject\n",
    "from Session.models import Attendance,Session\n",
    "from StakeHolders.models import NotificationSubscriptions,SuperAdmin,Admin,Teacher,Student\n",
    "from django.contrib.auth import get_user_model"
   ]
  },
  {
   "cell_type": "code",
   "execution_count": 6,
   "metadata": {},
   "outputs": [],
   "source": [
    "file = open('../ME.json')\n",
    "data = json.load(file)"
   ]
  },
  {
   "cell_type": "code",
   "execution_count": 7,
   "metadata": {},
   "outputs": [],
   "source": [
    "for branch_index,branch in data.items():\n",
    "    for year_index,year in branch.items():\n",
    "        for subject in year:     \n",
    "            try:\n",
    "                stream_code = subject['Branch code'][1:] if len(subject['Branch code']) == 3 and subject['Branch code'].isdigit() and subject['Branch code'].startswith('0') else subject['Branch code']\n",
    "                subject_code=subject['Subcode']\n",
    "                permanent_sub = PermanentSubject(stream_code=stream_code,subject_code=subject_code)\n",
    "                permanent_sub.degree = 'ME'\n",
    "                permanent_sub.sem_year=subject['Sem /Year']\n",
    "                permanent_sub.eff_from=subject['Eff_from']\n",
    "                permanent_sub.subject_name=subject['SubjectName']\n",
    "                permanent_sub.category=subject['Category']\n",
    "                permanent_sub.L=subject['L.']\n",
    "                permanent_sub.P=subject['P.']\n",
    "                permanent_sub.T=subject['T.']\n",
    "                permanent_sub.credit=subject['Total']\n",
    "                permanent_sub.E=subject['E']\n",
    "                permanent_sub.M=subject['M']\n",
    "                permanent_sub.I=subject['I']\n",
    "                permanent_sub.V=subject['V']\n",
    "                permanent_sub.total_marks=subject['Total2']\n",
    "                permanent_sub.practical_exam_duration=subject['Practical Exam Duration'] if subject['Practical Exam Duration'] != '' else 0\n",
    "                permanent_sub.theory_exam_duration=subject['Theory Exam Duration'] if subject['Theory Exam Duration'] != '' else 0\n",
    "                permanent_sub.remark=subject['Remark']\n",
    "                permanent_sub.is_elective=True if subject['Elective Subject'] == 'Yes' else False\n",
    "                permanent_sub.is_practical=True if subject['IsPractical'] == 'Yes' else False\n",
    "                permanent_sub.is_theory=True if subject['IsTheory'] == 'Yes' else False\n",
    "                permanent_sub.is_semipractical=True if subject['isSemipractical'] == 'Yes' else False\n",
    "                permanent_sub.is_functional=True if subject['Isfunctional'] == 'Yes' else False                \n",
    "                permanent_sub.save()\n",
    "            except Exception as e:\n",
    "                print(subject)                \n",
    "                sys.exit(0)"
   ]
  },
  {
   "cell_type": "code",
   "execution_count": 9,
   "metadata": {},
   "outputs": [
    {
     "data": {
      "text/plain": [
       "13708"
      ]
     },
     "execution_count": 9,
     "metadata": {},
     "output_type": "execute_result"
    }
   ],
   "source": [
    "PermanentSubject.objects.count()"
   ]
  },
  {
   "cell_type": "code",
   "execution_count": 6,
   "metadata": {},
   "outputs": [],
   "source": []
  }
 ],
 "metadata": {
  "kernelspec": {
   "display_name": "venv",
   "language": "python",
   "name": "python3"
  },
  "language_info": {
   "codemirror_mode": {
    "name": "ipython",
    "version": 3
   },
   "file_extension": ".py",
   "mimetype": "text/x-python",
   "name": "python",
   "nbconvert_exporter": "python",
   "pygments_lexer": "ipython3",
   "version": "3.12.3"
  }
 },
 "nbformat": 4,
 "nbformat_minor": 2
}
