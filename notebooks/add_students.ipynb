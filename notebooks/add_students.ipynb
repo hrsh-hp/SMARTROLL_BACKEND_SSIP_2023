{
 "cells": [
  {
   "cell_type": "code",
   "execution_count": 1,
   "metadata": {},
   "outputs": [],
   "source": [
    "import json\n",
    "import os\n",
    "import django\n",
    "import pandas as pd\n",
    "import sys\n",
    "sys.path.append('..')\n",
    "os.environ.setdefault('DJANGO_SETTINGS_MODULE', 'SMARTROLL.settings')\n",
    "os.environ[\"DJANGO_ALLOW_ASYNC_UNSAFE\"] = \"true\"\n",
    "os.environ.setdefault('DJANGO_SETTINGS_MODULE', 'SMARTROLL.settings')\n",
    "django.setup()\n",
    "from Manage.models import College,Term,Branch,Stream,Semester,Division,Batch,Subject,TimeTable,GPSCoordinates,Classroom,Schedule,Lecture,Link\n",
    "from Session.models import Attendance,Session\n",
    "from StakeHolders.models import NotificationSubscriptions,SuperAdmin,Admin,Teacher,Student,Profile\n",
    "from django.contrib.auth import get_user_model"
   ]
  },
  {
   "cell_type": "code",
   "execution_count": 22,
   "metadata": {},
   "outputs": [],
   "source": [
    "folder_path = '../student-sheets'\n",
    "files_with_paths = [os.path.abspath(os.path.join(folder_path, f)) for f in os.listdir(folder_path) if os.path.isfile(os.path.join(folder_path, f))]"
   ]
  },
  {
   "cell_type": "code",
   "execution_count": 3,
   "metadata": {},
   "outputs": [],
   "source": [
    "def create_student_obj(branch,stream_code,sem,sr_no,enrollment,name):        \n",
    "    semester_obj = Branch.objects.filter(slug=branch).first().stream_set.filter(stream_code=stream_code).first().semester_set.filter(no=sem).first()\n",
    "    if semester_obj:\n",
    "        name = name.rstrip()\n",
    "        student_obj,student_created = Student.objects.get_or_create(enrollment=enrollment,sr_no=sr_no)\n",
    "        if student_obj:    \n",
    "            profile_obj,created = Profile.objects.get_or_create_by_name(name=name,role='student')\n",
    "            student_obj.profile = profile_obj\n",
    "            student_obj.save()\n",
    "            semester_obj.students.add(student_obj)\n",
    "            return student_obj\n",
    "        return None"
   ]
  },
  {
   "cell_type": "code",
   "execution_count": 10,
   "metadata": {},
   "outputs": [
    {
     "name": "stdout",
     "output_type": "stream",
     "text": [
      "Student created 230280152001 | AGRAHARI PANKAJ HUKUMACHANDRA\n",
      "Student created 230280152002 | Alani Manoj Bharatbhai\n",
      "Student created 230280152003 | Ankush Chunilal Ratnani\n",
      "Student created 230280152004 | Atharva Jitendra Dholakia\n",
      "Student created 230280152005 | Balar Maulik Ghanshyambhai\n",
      "Student created 230280152006 | BAMBHANIYA BRIJESHKUMAR SANABHAI\n",
      "Student created 230280152007 | Bhammar Krunal Jethurbhai\n",
      "Student created 230280152008 | Bhatt Priyan Naman\n",
      "Student created 230280152009 | BUHA VASU MUKESHBHAI\n",
      "Student created 230280152010 | CHAVDA SHAKTISINH DHIRUBHA\n",
      "Student created 230280152011 | DASADIYA MESHWA HARIKRUSHNABHAI\n",
      "Student created 230280152012 | DASALANI JAY NATHALAL\n",
      "Student created 230280152013 | Desai Anand Kalyanbhai\n",
      "Student created 230280152014 | DESAI AYUSHI DILIPBHAI\n",
      "Student created 230280152015 | Dharati Chovatiya\n",
      "Student created 230280152016 | DHARAV ANTANI\n",
      "Student created 230280152017 | Dhaval\n",
      "Student created 230280152018 | DHOLAKIYA MAYUR ASHOKBHAI\n",
      "Student created 230280152019 | divyesh padsala\n",
      "Student created 230280152020 | GAJERA KULDIP VIPULBHAI\n",
      "Student created 230280152022 | GANVIT BHUMIBEN MAHESHBHAI\n",
      "Student created 230280152023 | GURJAR MAHENDRA NAVALBHAI\n",
      "Student created 230280152024 | ITALIYA NEEL PANKAJBHAI\n",
      "Student created 230280152026 | Jogadiya anand\n",
      "Student created 230280152027 | Kachhadiya Vedant Alpeshbhai\n",
      "Student created 230280152028 | Kalpana Gupta\n",
      "Student created 230280152029 | KEVAT KAVYA NATVARBHAI\n",
      "Student created 230280152030 | KHUNT JILS JAYESHBHAI\n",
      "Student created 230280152032 | KUCHHADIYA PUNJABHAI NAGA\n",
      "Student created 230280152033 | Kushal Davda\n",
      "Student created 230280152034 | MAKADIYA DEEP DINESHBHAI\n",
      "Student created 230280152035 | MAKWANA SAHIL SURESHBHAI\n",
      "Student created 230280152036 | Minesh Vaghani\n",
      "Student created 230280152037 | MUNIYA PREMKUMAR LAXMANBHAI\n",
      "Student created 230280152038 | Parekh Rushikumar Ashwinkumar\n",
      "Student created 230280152039 | PARMAR JYOTIRADITYA\n",
      "Student created 230280152040 | Parth\n",
      "Student created 230280152041 | Parth Raninga\n",
      "Student created 230280152042 | PATEL DHRUVKUMAR MUKESHBHAI\n",
      "Student created 230280152043 | Patel Dinalben Pravinbhai\n",
      "Student created 230280152044 | Patel Harsh Jignesh\n",
      "Student created 230280152045 | PATEL KEYA TUSHARBHAI\n",
      "Student created 230280152047 | Patel Priyank\n",
      "Student created 230280152048 | PATEL RUCHIR RAJESH\n",
      "Student created 230280152049 | Patel Shreykumar Kiritbhai\n",
      "Student created 230280152050 | Patel Tanvi Hitendrakumar\n",
      "Student created 230280152051 | PATEL VRUTTIKUMARI KAUSHIKBHAI\n",
      "Student created 230280152052 | pawar vighnesh dharmesh\n",
      "Student created 230280152053 | Prajapati Hiren HasmukhBhai\n",
      "Student created 230280152054 | PRAJAPATI PARTH KAPURBHAI\n",
      "Student created 230280152055 | Prajapati Vishal Vinodbhai\n",
      "Student created 230280152056 | RATHAVA NAYANKUMAR RAJUBHAI\n",
      "Student created 230280152057 | RATHOD DRASHTIBEN HARIBHAI\n",
      "Student created 230280152058 | RATHVA ROSHANKUMAR RAMANBHAI\n",
      "Student created 230280152059 | ROSHANKUMAR\n",
      "Student created 230280152060 | Rupapara Nirav Vrajlal\n",
      "Student created 230280152061 | SATANI BHARGAV ARVINDBHAI\n",
      "Student created 230280152062 | SAVALIYA RAJAN ANILBHAI\n",
      "Student created 230280152063 | Shah Het Brijeshkumar\n",
      "Student created 230280152066 | SIDAPARA PALAK MUKESHBHAI\n",
      "Student created 230280152067 | SOLANKI YOGESH ARSHIBHAI\n",
      "Student created 230280152068 | SONARA PRINCE JAGDISHKUMAR\n",
      "Student created 230280152069 | Stuti savaliya\n",
      "Student created 230280152070 | Talaviya krutarth dalsukhbhai\n",
      "Student created 230280152071 | TIMBADIYA MUKUND NITINBHAI\n",
      "Student created 230280152072 | VAGHELA OM NARESHBHAI\n",
      "Student created 230280152073 | VALA SHREYANSHI MAHESHBHAI\n",
      "Student created 230280152074 | VEKARIYA MAYANK BHARATBHAI\n",
      "Student created 230280152075 | VORA YASHVI MUKESHBHAI\n",
      "Student created 230280152076 | VYAS KEVAL PINAKKUMAR\n",
      "Student created D2D1 | AMBALIYA RUTUL JIVANBHAI\n",
      "Student created D2D2 | BHANGALE MUGDHA PRASHANT\n",
      "Student created D2D3 | CHOTALIYA JAY NAGJIBHAI\n",
      "Student created D2D4 | HEMIL PATEL\n",
      "Student created D2D5 | ISHAAN SHARMA\n",
      "Student created D2D6 | JAVIYA RONAK MAHESHBHAI\n",
      "Student created D2D7 | JEEL\n",
      "Student created D2D8 | JOSHI SHREYANSH SATANAND\n",
      "Student created D2D9 | KALPESH NORIYA\n",
      "Student created D2D10 | MAHAKAL PARTHKUMAR VIJAYBHAI\n",
      "Student created D2D11 | NARVEKAR SHRIKANT YATIN\n",
      "Student created D2D12 | PARMAR RAJDIPSINH\n",
      "Student created D2D13 | PATEL HARDIK MANISHBHAI\n",
      "Student created D2D14 | RONAK\n",
      "Student created D2D15 | TWARA SHAH\n"
     ]
    }
   ],
   "source": [
    "file = open('../student-sheets/3rd_AIML_Students.json')\n",
    "data = json.load(file)\n",
    "for division,division_data in data.items():\n",
    "        for batch,batch_data in division_data.items():\n",
    "            for student in batch_data:\n",
    "                student_obj = create_student_obj(branch='332561_1731147390',stream_code='52',sem=3,sr_no=student['sr_no'],enrollment=student['enrollment'],name=student['name'])\n",
    "                if student_obj:\n",
    "                    print(f\"Student created {student_obj}\")\n",
    "                else:\n",
    "                    print(f\"Student not created {student}\")"
   ]
  },
  {
   "cell_type": "code",
   "execution_count": 4,
   "metadata": {},
   "outputs": [],
   "source": [
    "sem_5_students = '/home/manav1011/Documents/SMARTROLL_SSIP_2023/SMARTROLL/notebooks/sheets/5th sem - AIML - 2024 (1).xlsx'"
   ]
  },
  {
   "cell_type": "code",
   "execution_count": 8,
   "metadata": {},
   "outputs": [],
   "source": [
    "semester = Semester.objects.filter(slug='6367490843084391_1732005086373').first()\n",
    "df = pd.read_excel(sem_5_students)\n",
    "for _,row in df.iterrows():    \n",
    "    sr_no = row.iloc[0]    \n",
    "    enrollment=row.iloc[1]\n",
    "    name=row.iloc[2]    \n",
    "    email=row.iloc[3]\n",
    "    # create profiles\n",
    "    profile_obj,created = Profile.objects.get_or_create(name=name,email=email,role='student')\n",
    "    student,created = Student.objects.get_or_create(profile=profile_obj,sr_no=sr_no,enrollment=enrollment)\n",
    "    semester.students.add(student)\n"
   ]
  },
  {
   "cell_type": "code",
   "execution_count": 12,
   "metadata": {},
   "outputs": [],
   "source": [
    "import random\n",
    "import string\n",
    "\n",
    "def generate_password(length=6):\n",
    "    # Define the characters that can be used in the password (letters and digits)\n",
    "    characters = string.ascii_letters + string.digits\n",
    "    \n",
    "    # Generate a random password by choosing random characters\n",
    "    password = ''.join(random.choice(characters) for _ in range(length))\n",
    "    \n",
    "    return password"
   ]
  },
  {
   "cell_type": "code",
   "execution_count": 15,
   "metadata": {},
   "outputs": [],
   "source": [
    "students = Student.objects.filter(is_active=False)\n",
    "for student in students:\n",
    "    profile=student.profile\n",
    "    profile.set_password(generate_password())\n",
    "    profile.save()\n"
   ]
  }
 ],
 "metadata": {
  "kernelspec": {
   "display_name": "venv",
   "language": "python",
   "name": "python3"
  },
  "language_info": {
   "codemirror_mode": {
    "name": "ipython",
    "version": 3
   },
   "file_extension": ".py",
   "mimetype": "text/x-python",
   "name": "python",
   "nbconvert_exporter": "python",
   "pygments_lexer": "ipython3",
   "version": "3.12.3"
  }
 },
 "nbformat": 4,
 "nbformat_minor": 2
}
