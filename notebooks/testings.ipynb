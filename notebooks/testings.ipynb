{
 "cells": [
  {
   "cell_type": "code",
   "execution_count": 46,
   "metadata": {},
   "outputs": [],
   "source": [
    "import json\n",
    "import os\n",
    "import django\n",
    "import sys\n",
    "sys.path.append('..')\n",
    "os.environ.setdefault('DJANGO_SETTINGS_MODULE', 'SMARTROLL.settings')\n",
    "os.environ[\"DJANGO_ALLOW_ASYNC_UNSAFE\"] = \"true\"\n",
    "os.environ.setdefault('DJANGO_SETTINGS_MODULE', 'SMARTROLL.settings')\n",
    "django.setup()\n",
    "from Manage.models import College,Term,Branch,Stream,Semester,Division,Batch,Subject,TimeTable,GPSCoordinates,Classroom,Schedule,Lecture,Link,PermanentSubject,SubjectChoices\n",
    "from Session.models import Attendance,Session\n",
    "from StakeHolders.models import NotificationSubscriptions,SuperAdmin,Admin,Teacher,Student,Profile\n",
    "from django.contrib.auth import get_user_model\n",
    "import datetime\n",
    "import pandas as pd\n",
    "import string"
   ]
  },
  {
   "cell_type": "code",
   "execution_count": 77,
   "metadata": {},
   "outputs": [],
   "source": [
    "file_path='/home/manav1011/Documents/SMARTROLL_SSIP_2023/SMARTROLL/notebooks/sheets/electives (1).xlsx'"
   ]
  },
  {
   "cell_type": "code",
   "execution_count": 78,
   "metadata": {},
   "outputs": [],
   "source": [
    "sheet_names = pd.ExcelFile(file_path).sheet_names\n",
    "ML = pd.read_excel(file_path, sheet_name='ML')\n",
    "BDA = pd.read_excel(file_path, sheet_name='BDA')\n",
    "IS = pd.read_excel(file_path, sheet_name='IS')\n",
    "MCWC = pd.read_excel(file_path, sheet_name='MCWC')\n",
    "CC = pd.read_excel(file_path, sheet_name='CC')\n",
    "MAD = pd.read_excel(file_path, sheet_name='MAD')\n",
    "DF = pd.read_excel(file_path, sheet_name='DF')"
   ]
  },
  {
   "cell_type": "code",
   "execution_count": 79,
   "metadata": {},
   "outputs": [],
   "source": [
    "def update_student_subjects(df, subject_name,student_subjects):\n",
    "    for _, row in df.iterrows():\n",
    "        student_key = (row['enrollment'], row['name'])  # Create a tuple of (enrollment, name)\n",
    "        if student_key in student_subjects:\n",
    "            student_subjects[student_key].append(subject_name)\n",
    "        else:\n",
    "            student_subjects[student_key] = [subject_name]\n"
   ]
  },
  {
   "cell_type": "code",
   "execution_count": 80,
   "metadata": {},
   "outputs": [],
   "source": [
    "student_subjects = {}\n",
    "update_student_subjects(ML, 'ML',student_subjects)\n",
    "update_student_subjects(BDA, 'BDA',student_subjects)\n",
    "update_student_subjects(IS, 'IS',student_subjects)\n",
    "update_student_subjects(MCWC, 'MCWC',student_subjects)\n",
    "update_student_subjects(CC, 'CC',student_subjects)\n",
    "update_student_subjects(MAD, 'MAD',student_subjects)\n",
    "update_student_subjects(DF, 'DF',student_subjects)"
   ]
  },
  {
   "cell_type": "code",
   "execution_count": 81,
   "metadata": {},
   "outputs": [],
   "source": [
    "min_div_size = 60\n",
    "max_div_size = 90\n",
    "def calculate_divisions(student_count):    \n",
    "    min_divisions = (student_count + max_div_size - 1) // max_div_size\n",
    "    max_divisions = student_count // min_div_size        \n",
    "    for divisions in range(min_divisions, max_divisions + 1):\n",
    "        div_size = student_count // divisions\n",
    "        if min_div_size <= div_size <= max_div_size:\n",
    "            return divisions        \n",
    "    return min_divisions"
   ]
  },
  {
   "cell_type": "code",
   "execution_count": 82,
   "metadata": {},
   "outputs": [
    {
     "data": {
      "text/plain": [
       "{'ML': 8, 'BDA': 8, 'IS': 8, 'MCWC': 6, 'CC': 6, 'MAD': 6, 'DF': 6}"
      ]
     },
     "execution_count": 82,
     "metadata": {},
     "output_type": "execute_result"
    }
   ],
   "source": [
    "total_hours = {\n",
    "    \"ML\":4,\n",
    "    \"BDA\":4,\n",
    "    \"IS\":4,\n",
    "    \"MCWC\":3,\n",
    "    \"CC\":3,\n",
    "    \"MAD\":3,\n",
    "    \"DF\":3,\n",
    "}\n",
    "total_student_count = len(student_subjects.keys())\n",
    "approx_division_count = calculate_divisions(total_student_count)\n",
    "# the total teaching our for each subject will be in multiplication of the approx division count\n",
    "\n",
    "for subject in total_hours:\n",
    "    total_hours[subject] *= approx_division_count\n",
    "total_hours"
   ]
  },
  {
   "cell_type": "code",
   "execution_count": 83,
   "metadata": {},
   "outputs": [],
   "source": [
    "subject_groups = {}\n",
    "for student, subject_group in student_subjects.items():\n",
    "    # Convert subject_group to a tuple if it isn't one already\n",
    "    subject_group_tuple = tuple(subject_group)\n",
    "    if subject_group_tuple not in subject_groups:\n",
    "        subject_groups[subject_group_tuple] = [student]\n",
    "    else:\n",
    "        subject_groups[subject_group_tuple].append(student)"
   ]
  },
  {
   "cell_type": "code",
   "execution_count": 85,
   "metadata": {},
   "outputs": [
    {
     "name": "stdout",
     "output_type": "stream",
     "text": [
      "Group - ('ML', 'IS', 'CC', 'DF') | Student Count 69\n",
      "Group - ('BDA', 'IS', 'MCWC', 'MAD') | Student Count 11\n",
      "Group - ('BDA', 'IS', 'CC', 'DF') | Student Count 78\n",
      "Group - ('BDA', 'IS', 'CC', 'MAD') | Student Count 7\n",
      "Group - ('BDA', 'IS', 'MCWC', 'DF') | Student Count 13\n"
     ]
    }
   ],
   "source": [
    "for subject_group in subject_groups:\n",
    "    print(f\"Group - {subject_group} | Student Count {len(subject_groups[subject_group])}\")"
   ]
  },
  {
   "cell_type": "code",
   "execution_count": 88,
   "metadata": {},
   "outputs": [
    {
     "data": {
      "text/plain": [
       "{'A': [], 'B': []}"
      ]
     },
     "execution_count": 88,
     "metadata": {},
     "output_type": "execute_result"
    }
   ],
   "source": [
    "divisions = {}\n",
    "for i in range(approx_division_count):\n",
    "    divisions[string.ascii_uppercase[i]] = []\n",
    "divisions"
   ]
  },
  {
   "cell_type": "code",
   "execution_count": 89,
   "metadata": {},
   "outputs": [],
   "source": [
    "remaining_students_count = total_student_count\n",
    "for division in divisions:        \n",
    "    # check the count of students in current division\n",
    "    students_count_in_div = len(divisions[division])\n",
    "    capacity_remained_in_div = max_div_size-students_count_in_div\n",
    "    if capacity_remained_in_div >= remaining_students_count:\n",
    "        # insert all the remaining students in current div\n",
    "        for subject_group,students in subject_groups.items():\n",
    "            divisions[division] += students\n",
    "    else:\n",
    "        # iterate through the subject groups\n",
    "        # check if any available subject group has the student count greater than the max_div_count\n",
    "        subject_group_gt_max_div_count= list(filter(lambda subject_group: len(subject_groups[subject_group]) > max_div_size,subject_groups))\n",
    "        if subject_group_gt_max_div_count:\n",
    "            # move the first max_div_count students to this division\n",
    "            divisions[division] = subject_groups[subject_group_gt_max_div_count[0]][:max_div_size]\n",
    "            subject_groups[subject_group_gt_max_div_count[0]] = subject_groups[subject_group_gt_max_div_count[0]][max_div_size:]\n",
    "            # also reduce the remaining student count            \n",
    "            remaining_students_count -= max_div_size\n",
    "            # now this div's full so move let's move to next div            \n",
    "            continue\n",
    "            "
   ]
  },
  {
   "cell_type": "code",
   "execution_count": 90,
   "metadata": {},
   "outputs": [
    {
     "data": {
      "text/plain": [
       "{'A': [], 'B': []}"
      ]
     },
     "execution_count": 90,
     "metadata": {},
     "output_type": "execute_result"
    }
   ],
   "source": [
    "# Now to sort the students according to their enrollment in each divisions\n",
    "for division in divisions:\n",
    "    divisions[division]=sorted(divisions[division], key=lambda student: student[0])\n",
    "divisions"
   ]
  },
  {
   "cell_type": "code",
   "execution_count": 2,
   "metadata": {},
   "outputs": [
    {
     "name": "stdout",
     "output_type": "stream",
     "text": [
      "Division 1 student groups and counts: {('ML', 'IS', 'CC', 'DF'): 69, ('BDA', 'IS', 'CC', 'MAD'): 7, ('BDA', 'IS', 'MCWC', 'DF'): 13}\n",
      "Division 2 student groups and counts: {('BDA', 'IS', 'MCWC', 'MAD'): 11, ('BDA', 'IS', 'CC', 'DF'): 78}\n",
      "\n",
      "Teaching hours in Division 1: {'ML': 34.5, 'BDA': 10.0, 'IS': 44.5, 'MCWC': 6.5, 'CC': 38.0, 'MAD': 3.5, 'DF': 41.0}\n",
      "Teaching hours in Division 2: {'ML': 0, 'BDA': 44.5, 'IS': 44.5, 'MCWC': 5.5, 'CC': 39.0, 'MAD': 5.5, 'DF': 39.0}\n"
     ]
    }
   ],
   "source": [
    "# Sample data for student groups and their counts\n",
    "student_groups = {\n",
    "    ('ML', 'IS', 'CC', 'DF'): 69,\n",
    "    ('BDA', 'IS', 'MCWC', 'MAD'): 11,\n",
    "    ('BDA', 'IS', 'CC', 'DF'): 78,\n",
    "    ('BDA', 'IS', 'CC', 'MAD'): 7,\n",
    "    ('BDA', 'IS', 'MCWC', 'DF'): 13,\n",
    "}\n",
    "\n",
    "# GTU minimum teaching hours for each subject\n",
    "total_hours = {\n",
    "    \"ML\": 4,\n",
    "    \"BDA\": 4,\n",
    "    \"IS\": 4,\n",
    "    \"MCWC\": 3,\n",
    "    \"CC\": 3,\n",
    "    \"MAD\": 3,\n",
    "    \"DF\": 3,\n",
    "}\n",
    "\n",
    "# Initialize two divisions\n",
    "division_1 = {}\n",
    "division_2 = {}\n",
    "\n",
    "# Initialize teaching hours tracker for each subject in both divisions\n",
    "teaching_hours_div_1 = {subject: 0 for subject in total_hours}\n",
    "teaching_hours_div_2 = {subject: 0 for subject in total_hours}\n",
    "\n",
    "# Function to calculate the penalty score for deviating from the ideal teaching hours\n",
    "def calculate_penalty(division_hours):\n",
    "    penalty = 0\n",
    "    for subject, ideal_hours in total_hours.items():\n",
    "        effective_hours = max(division_hours[subject], ideal_hours)  # Apply minimum threshold\n",
    "        penalty += abs(effective_hours - ideal_hours)\n",
    "    return penalty\n",
    "\n",
    "# Main loop to assign each group to a division\n",
    "for subjects, count in student_groups.items():\n",
    "    # Calculate hours if added to each division\n",
    "    temp_hours_div_1 = teaching_hours_div_1.copy()\n",
    "    temp_hours_div_2 = teaching_hours_div_2.copy()\n",
    "    \n",
    "    # Add this group’s students to temporary hours for both divisions\n",
    "    for subject in subjects:\n",
    "        temp_hours_div_1[subject] += count / 2  # Half for balancing\n",
    "        temp_hours_div_2[subject] += count / 2  # Half for balancing\n",
    "    \n",
    "    # Calculate penalty for each option\n",
    "    penalty_if_div_1 = calculate_penalty(temp_hours_div_1)\n",
    "    penalty_if_div_2 = calculate_penalty(temp_hours_div_2)\n",
    "    \n",
    "    # Decide the division that minimizes the penalty for each subject's teaching hours\n",
    "    if penalty_if_div_1 <= penalty_if_div_2:\n",
    "        # Assign the group to Division 1\n",
    "        for subject in subjects:\n",
    "            teaching_hours_div_1[subject] += count / 2  # Add half count to represent division\n",
    "        division_1[subjects] = count\n",
    "    else:\n",
    "        # Assign the group to Division 2\n",
    "        for subject in subjects:\n",
    "            teaching_hours_div_2[subject] += count / 2  # Add half count to represent division\n",
    "        division_2[subjects] = count\n",
    "\n",
    "# Output the results\n",
    "print(\"Division 1 student groups and counts:\", division_1)\n",
    "print(\"Division 2 student groups and counts:\", division_2)\n",
    "print(\"\\nTeaching hours in Division 1:\", teaching_hours_div_1)\n",
    "print(\"Teaching hours in Division 2:\", teaching_hours_div_2)"
   ]
  }
 ],
 "metadata": {
  "kernelspec": {
   "display_name": "venv",
   "language": "python",
   "name": "python3"
  },
  "language_info": {
   "codemirror_mode": {
    "name": "ipython",
    "version": 3
   },
   "file_extension": ".py",
   "mimetype": "text/x-python",
   "name": "python",
   "nbconvert_exporter": "python",
   "pygments_lexer": "ipython3",
   "version": "3.12.3"
  }
 },
 "nbformat": 4,
 "nbformat_minor": 2
}
