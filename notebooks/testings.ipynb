{
 "cells": [
  {
   "cell_type": "code",
   "execution_count": 1,
   "metadata": {},
   "outputs": [],
   "source": [
    "import pandas as pd\n",
    "import re\n",
    "import hashlib\n",
    "import requests\n",
    "import datetime\n",
    "import time\n",
    "import json"
   ]
  },
  {
   "cell_type": "code",
   "execution_count": 2,
   "metadata": {},
   "outputs": [],
   "source": [
    "import os\n",
    "import django\n",
    "os.environ[\"DJANGO_ALLOW_ASYNC_UNSAFE\"] = \"true\""
   ]
  },
  {
   "cell_type": "code",
   "execution_count": 3,
   "metadata": {},
   "outputs": [
    {
     "data": {
      "text/plain": [
       "'SMARTROLL.settings'"
      ]
     },
     "execution_count": 3,
     "metadata": {},
     "output_type": "execute_result"
    }
   ],
   "source": [
    "os.environ.setdefault('DJANGO_SETTINGS_MODULE', 'SMARTROLL.settings')"
   ]
  },
  {
   "cell_type": "code",
   "execution_count": 4,
   "metadata": {},
   "outputs": [],
   "source": [
    "django.setup()"
   ]
  },
  {
   "cell_type": "code",
   "execution_count": 5,
   "metadata": {},
   "outputs": [],
   "source": [
    "from Manage.models import College,Term,Branch,Stream,Semester,Division,Batch,Subject,TimeTable,GPSCoordinates,Classroom,Schedule,Lecture,Link\n",
    "from Session.models import Attendance,Session\n",
    "from StakeHolders.models import NotificationSubscriptions,SuperAdmin,Admin,Teacher,Student\n",
    "from django.contrib.auth import get_user_model"
   ]
  },
  {
   "cell_type": "code",
   "execution_count": 13,
   "metadata": {},
   "outputs": [],
   "source": [
    "courses = ['01 - AERONAUTICAL ENGINEERING', '02 - AUTOMOBILE ENGINEERING', '03 - BIO-MEDICAL ENGINEERING', '04 - BIO-TECHNOLOGY', '05 - CHEMICAL ENGINEERING', '06 - CIVIL ENGINEERING', '07 - COMPUTER ENGINEERING', '08 - ELECTRICAL & ELECTRONICS ENGINEERING', '09 - ELECTRICAL ENGINEERING', '10 - ELECTRONICS ENGINEERING', '11 - ELECTRONICS & COMMUNICATION ENGINEERING', '12 - ELECTRONICS & TELECOMMUNICATION ENGINEERING', '13 - ENVIRONMENTAL ENGINEERING', '14 - FOOD PROCESSING TECHNOLOGY', '15 - INDUSTRIAL ENGINEERING', '16 - INFORMATION TECHNOLOGY', '17 - INSTRUMENTATION & CONTROL ENGINEERING', '18 - MARINE ENGINEERING', '19 - MECHANICAL ENGINEERING', '20 - MECHATRONICS ENGINEERING', '21 - METALLURGY ENGINEERING', '22 - MINING ENGINEERING', '23 - PLASTIC TECHNOLOGY', '24 - POWER ELECTRONICS', '25 - PRODUCTION ENGINEERING', '26 - RUBBER TECHNOLOGY', '28 - TEXTILE PROCESSING', '29 - TEXTILE TECHNOLOGY', '31 - COMPUTER SCIENCE & ENGINEERING', '32 - INFORMATION & COMMUNICATION TECHNOLOGY', '34 - MANUFACTURING ENGINEERING', '35 - ENVIRONMENTAL SCIENCE & TECHNOLOGY', '36 - CHEMICAL TECHNOLOGY', '37 - ENVIRONMENTAL SCIENCE AND ENGINEERING', '39 - NANO TECHNOLOGY', '40 - CIVIL & INFRASTRUCTURE ENGINEERING', '41 - ROBOTICS AND AUTOMATION', '42 - COMPUTER SCIENCE & ENGINEERING (ARTIFICIAL INTELLIGENCE AND MACHINE LEARNING)', '43 - ARTIFICIAL INTELLIGENCE AND DATA SCIENCE', '44 - CHEMICAL ENGINEERING (GREEN TECHNOLOGY & SUSTAINABILITY ENGINEERING)', '45 - COMPUTER SCIENCE & ENGINEERING (INTERNET OF THINGS AND CYBER SECURITY INCLUDING BLOCK CHAIN TECHNOLOGY)', '46 - COMPUTER SCIENCE & ENGINEERING (DATA SCIENCE)', '47 - ELECTRONICS & INSTRUMENTATION ENGINEERING', '48 - COMPUTER SCIENCE & ENGINEERING (CYBER SECURITY)', '49 - COMPUTER SCIENCE & DESIGN', '50 - SMART & SUSTAINABLE ENERGY', '51 - FOOD ENGINEERING & TECHNOLOGY', '52 - ARTIFICIAL INTELLIGENCE AND MACHINE LEARNING', '53 - PLASTICS ENGINEERING', '54 - ELECTRONICS AND COMMUNICATION (COMMUNICATION SYSTEM ENGINEERING)', '89 - MECHANICAL ENGINEERING', 'AA - MINOR/HONORS -INDUSTRIAL PROCESS SAFETY', 'AB - MINOR/HONORS -WASTE TECHNOLOGY', 'AC - MINOR/HONORS -CONSTRUCTION TECHNOLOGY', 'AD - MINOR/HONORS -NEXT GENERATION SMART VILLAGE', 'AE - MINOR/HONORS -INFRASTRUCTURE ENGINEERING', 'AF - MINOR/HONORS -SMART CITIES', 'AG - MINOR/HONORS -ARTIFICIAL INTELLIGENCE & MACHINE LEARNING', 'AH - MINOR/HONORS -CYBER SECURITY', 'AI - MINOR/HONORS -INTERNET OF THINGS', 'AJ - MINOR/HONORS - SOLAR ENERGY SYSTEMS', 'AK - MINOR/HONORS -ELECTRICAL AND COMPUTER', 'AL - MINOR/HONORS -ELECTRIC VEHICLES', 'AM - MINOR/HONORS -CONTROL SYSTEMS AND SENSORS TECHNOLOGY', 'AN - MINOR/HONORS -3 D PRINTING', 'AO - MINOR/HONORS -ROBOTICS', 'AP - MINOR/HONORS -ENERGY ENGINEERING', 'AQ - MINOR/HONORS - GLOBAL CITIZENSHIP PERSONALITY DEVELOPMENT', 'AR - MINOR/HONOURS-INDUSTRIAL BASED NON DESTRUCTIVE TECHNIQUES AND PRACTICES', 'AS - MINOR/HONOURS-GREEN TECHNOLOGY AND SUSTAINABILITY ENGINEERING', 'AT - MINOR/HONOURS-DATA SCIENCE', 'AU - MINOR/HONOURS-FORENSIC STRUCTURAL ENGINEERING', 'AV - MINOR/HONOURS-COMPUTER AIDED CIVIL ENGINEERING PROCESSES', 'NA - ARMY', 'NB - AIR FORCE', 'NC - NAVY']\n",
    "years = ['2008-09','2013-14','2014-15','2018-19','2024-25']"
   ]
  },
  {
   "cell_type": "code",
   "execution_count": 37,
   "metadata": {},
   "outputs": [],
   "source": [
    "courses = ['01 - AERONAUTICAL ENGINEERING', '02 - AUTOMOBILE ENGINEERING', '03 - BIO-MEDICAL ENGINEERING', '04 - BIO-TECHNOLOGY', '05 - CHEMICAL ENGINEERING', '06 - CIVIL ENGINEERING', '07 - COMPUTER ENGINEERING', '08 - ELECTRICAL & ELECTRONICS ENGINEERING', '09 - ELECTRICAL ENGINEERING', '10 - ELECTRONICS ENGINEERING', '11 - ELECTRONICS & COMMUNICATION ENGINEERING', '12 - ELECTRONICS & TELECOMMUNICATION ENGINEERING', '13 - ENVIRONMENTAL ENGINEERING', '14 - FOOD PROCESSING TECHNOLOGY', '15 - INDUSTRIAL ENGINEERING', '16 - INFORMATION TECHNOLOGY', '17 - INSTRUMENTATION & CONTROL ENGINEERING', '18 - MARINE ENGINEERING', '19 - MECHANICAL ENGINEERING', '20 - MECHATRONICS ENGINEERING', '21 - METALLURGY ENGINEERING', '22 - MINING ENGINEERING', '23 - PLASTIC TECHNOLOGY', '24 - POWER ELECTRONICS', '25 - PRODUCTION ENGINEERING', '26 - RUBBER TECHNOLOGY', '28 - TEXTILE PROCESSING', '29 - TEXTILE TECHNOLOGY', '31 - COMPUTER SCIENCE & ENGINEERING', '32 - INFORMATION & COMMUNICATION TECHNOLOGY', '34 - MANUFACTURING ENGINEERING', '35 - ENVIRONMENTAL SCIENCE & TECHNOLOGY', '36 - CHEMICAL TECHNOLOGY', '37 - ENVIRONMENTAL SCIENCE AND ENGINEERING', '39 - NANO TECHNOLOGY', '40 - CIVIL & INFRASTRUCTURE ENGINEERING', '41 - ROBOTICS AND AUTOMATION', '42 - COMPUTER SCIENCE & ENGINEERING (ARTIFICIAL INTELLIGENCE AND MACHINE LEARNING)', '43 - ARTIFICIAL INTELLIGENCE AND DATA SCIENCE', '44 - CHEMICAL ENGINEERING (GREEN TECHNOLOGY & SUSTAINABILITY ENGINEERING)', '45 - COMPUTER SCIENCE & ENGINEERING (INTERNET OF THINGS AND CYBER SECURITY INCLUDING BLOCK CHAIN TECHNOLOGY)', '46 - COMPUTER SCIENCE & ENGINEERING (DATA SCIENCE)', '47 - ELECTRONICS & INSTRUMENTATION ENGINEERING', '48 - COMPUTER SCIENCE & ENGINEERING (CYBER SECURITY)', '49 - COMPUTER SCIENCE & DESIGN', '50 - SMART & SUSTAINABLE ENERGY', '51 - FOOD ENGINEERING & TECHNOLOGY', '52 - ARTIFICIAL INTELLIGENCE AND MACHINE LEARNING', '53 - PLASTICS ENGINEERING', '54 - ELECTRONICS AND COMMUNICATION (COMMUNICATION SYSTEM ENGINEERING)', '89 - MECHANICAL ENGINEERING', 'AA - MINOR/HONORS -INDUSTRIAL PROCESS SAFETY', 'AB - MINOR/HONORS -WASTE TECHNOLOGY', 'AC - MINOR/HONORS -CONSTRUCTION TECHNOLOGY', 'AD - MINOR/HONORS -NEXT GENERATION SMART VILLAGE', 'AE - MINOR/HONORS -INFRASTRUCTURE ENGINEERING', 'AF - MINOR/HONORS -SMART CITIES', 'AG - MINOR/HONORS -ARTIFICIAL INTELLIGENCE & MACHINE LEARNING', 'AH - MINOR/HONORS -CYBER SECURITY', 'AI - MINOR/HONORS -INTERNET OF THINGS', 'AJ - MINOR/HONORS - SOLAR ENERGY SYSTEMS', 'AK - MINOR/HONORS -ELECTRICAL AND COMPUTER', 'AL - MINOR/HONORS -ELECTRIC VEHICLES', 'AM - MINOR/HONORS -CONTROL SYSTEMS AND SENSORS TECHNOLOGY', 'AN - MINOR/HONORS -3 D PRINTING', 'AO - MINOR/HONORS -ROBOTICS', 'AP - MINOR/HONORS -ENERGY ENGINEERING', 'AQ - MINOR/HONORS - GLOBAL CITIZENSHIP PERSONALITY DEVELOPMENT', 'AR - MINOR/HONOURS-INDUSTRIAL BASED NON DESTRUCTIVE TECHNIQUES AND PRACTICES', 'AS - MINOR/HONOURS-GREEN TECHNOLOGY AND SUSTAINABILITY ENGINEERING', 'AT - MINOR/HONOURS-DATA SCIENCE', 'AU - MINOR/HONOURS-FORENSIC STRUCTURAL ENGINEERING', 'AV - MINOR/HONOURS-COMPUTER AIDED CIVIL ENGINEERING PROCESSES', 'NA - ARMY', 'NB - AIR FORCE', 'NC - NAVY']"
   ]
  },
  {
   "cell_type": "code",
   "execution_count": null,
   "metadata": {},
   "outputs": [],
   "source": [
    "from selenium import webdriver\n",
    "from selenium.webdriver.chrome.options import Options\n",
    "from selenium.webdriver.chrome.service import Service\n",
    "from selenium.webdriver.support.ui import Select, WebDriverWait\n",
    "from selenium.webdriver.support import expected_conditions as EC\n",
    "from selenium.webdriver.common.by import By\n",
    "\n",
    "# Set up Chrome options and ChromeDriver service\n",
    "chrome_options = Options()\n",
    "chrome_options.add_argument(\"--headless\")  # Uncomment to run in headless mode\n",
    "chrome_options.add_argument(\"--no-sandbox\")\n",
    "chrome_options.add_argument(\"--disable-dev-shm-usage\")\n",
    "\n",
    "service = Service(\"/home/manav1011/Downloads/chromedriver-linux64/chromedriver\")\n",
    "driver = webdriver.Chrome(service=service, options=chrome_options)\n",
    "\n",
    "# Navigate to the webpage\n",
    "driver.get(\"https://syllabus.gtu.ac.in/Syllabus.aspx?tp=BE\")\n",
    "WebDriverWait(driver, 10).until(EC.presence_of_element_located((By.ID, \"ddcourse\")))\n",
    "\n",
    "data = {}\n",
    "courses = ['01 - AERONAUTICAL ENGINEERING', '02 - AUTOMOBILE ENGINEERING', '03 - BIO-MEDICAL ENGINEERING', '04 - BIO-TECHNOLOGY', '05 - CHEMICAL ENGINEERING', '06 - CIVIL ENGINEERING', '07 - COMPUTER ENGINEERING', '08 - ELECTRICAL & ELECTRONICS ENGINEERING', '09 - ELECTRICAL ENGINEERING', '10 - ELECTRONICS ENGINEERING', '11 - ELECTRONICS & COMMUNICATION ENGINEERING', '12 - ELECTRONICS & TELECOMMUNICATION ENGINEERING', '13 - ENVIRONMENTAL ENGINEERING', '14 - FOOD PROCESSING TECHNOLOGY', '15 - INDUSTRIAL ENGINEERING', '16 - INFORMATION TECHNOLOGY', '17 - INSTRUMENTATION & CONTROL ENGINEERING', '18 - MARINE ENGINEERING', '19 - MECHANICAL ENGINEERING', '20 - MECHATRONICS ENGINEERING', '21 - METALLURGY ENGINEERING', '22 - MINING ENGINEERING', '23 - PLASTIC TECHNOLOGY', '24 - POWER ELECTRONICS', '25 - PRODUCTION ENGINEERING', '26 - RUBBER TECHNOLOGY', '28 - TEXTILE PROCESSING', '29 - TEXTILE TECHNOLOGY', '31 - COMPUTER SCIENCE & ENGINEERING', '32 - INFORMATION & COMMUNICATION TECHNOLOGY', '34 - MANUFACTURING ENGINEERING', '35 - ENVIRONMENTAL SCIENCE & TECHNOLOGY', '36 - CHEMICAL TECHNOLOGY', '37 - ENVIRONMENTAL SCIENCE AND ENGINEERING', '39 - NANO TECHNOLOGY', '40 - CIVIL & INFRASTRUCTURE ENGINEERING', '41 - ROBOTICS AND AUTOMATION', '42 - COMPUTER SCIENCE & ENGINEERING (ARTIFICIAL INTELLIGENCE AND MACHINE LEARNING)', '43 - ARTIFICIAL INTELLIGENCE AND DATA SCIENCE', '44 - CHEMICAL ENGINEERING (GREEN TECHNOLOGY & SUSTAINABILITY ENGINEERING)', '45 - COMPUTER SCIENCE & ENGINEERING (INTERNET OF THINGS AND CYBER SECURITY INCLUDING BLOCK CHAIN TECHNOLOGY)', '46 - COMPUTER SCIENCE & ENGINEERING (DATA SCIENCE)', '47 - ELECTRONICS & INSTRUMENTATION ENGINEERING', '48 - COMPUTER SCIENCE & ENGINEERING (CYBER SECURITY)', '49 - COMPUTER SCIENCE & DESIGN', '50 - SMART & SUSTAINABLE ENERGY', '51 - FOOD ENGINEERING & TECHNOLOGY', '52 - ARTIFICIAL INTELLIGENCE AND MACHINE LEARNING', '53 - PLASTICS ENGINEERING', '54 - ELECTRONICS AND COMMUNICATION (COMMUNICATION SYSTEM ENGINEERING)', '89 - MECHANICAL ENGINEERING', 'AA - MINOR/HONORS -INDUSTRIAL PROCESS SAFETY', 'AB - MINOR/HONORS -WASTE TECHNOLOGY', 'AC - MINOR/HONORS -CONSTRUCTION TECHNOLOGY', 'AD - MINOR/HONORS -NEXT GENERATION SMART VILLAGE', 'AE - MINOR/HONORS -INFRASTRUCTURE ENGINEERING', 'AF - MINOR/HONORS -SMART CITIES', 'AG - MINOR/HONORS -ARTIFICIAL INTELLIGENCE & MACHINE LEARNING', 'AH - MINOR/HONORS -CYBER SECURITY', 'AI - MINOR/HONORS -INTERNET OF THINGS', 'AJ - MINOR/HONORS - SOLAR ENERGY SYSTEMS', 'AK - MINOR/HONORS -ELECTRICAL AND COMPUTER', 'AL - MINOR/HONORS -ELECTRIC VEHICLES', 'AM - MINOR/HONORS -CONTROL SYSTEMS AND SENSORS TECHNOLOGY', 'AN - MINOR/HONORS -3 D PRINTING', 'AO - MINOR/HONORS -ROBOTICS', 'AP - MINOR/HONORS -ENERGY ENGINEERING', 'AQ - MINOR/HONORS - GLOBAL CITIZENSHIP PERSONALITY DEVELOPMENT', 'AR - MINOR/HONOURS-INDUSTRIAL BASED NON DESTRUCTIVE TECHNIQUES AND PRACTICES', 'AS - MINOR/HONOURS-GREEN TECHNOLOGY AND SUSTAINABILITY ENGINEERING', 'AT - MINOR/HONOURS-DATA SCIENCE', 'AU - MINOR/HONOURS-FORENSIC STRUCTURAL ENGINEERING', 'AV - MINOR/HONOURS-COMPUTER AIDED CIVIL ENGINEERING PROCESSES', 'NA - ARMY', 'NB - AIR FORCE', 'NC - NAVY']\n",
    "years = ['2008-09', '2013-14', '2014-15','2015-16','2016-17','2017-18','2018-19','2020-21','2021-22','2022-23','2023-24','2024','2024-25']\n",
    "\n",
    "for course in courses:\n",
    "    print(f\"Now fetching course {course}\")\n",
    "    data[course] = {}\n",
    "    second_dropdown = WebDriverWait(driver, 10).until(EC.presence_of_element_located((By.ID, \"ddlbrcode\")))\n",
    "    Select(second_dropdown).select_by_visible_text(course)\n",
    "    \n",
    "    # Define the years you want to iterate over\n",
    "    years = ['2008-09', '2013-14', '2014-15','2015-16','2016-17','2017-18','2018-19','2020-21','2021-22','2022-23','2023-24','2024','2024-25']\n",
    "    \n",
    "    for year in years:\n",
    "        print(f\"Now fetching year {year}\")\n",
    "        third_dropdown = WebDriverWait(driver, 10).until(EC.presence_of_element_located((By.ID, \"ddl_effFrom\")))\n",
    "        Select(third_dropdown).select_by_visible_text(year)\n",
    "        \n",
    "        # Click the search button\n",
    "        search_button = WebDriverWait(driver, 10).until(EC.element_to_be_clickable((By.ID, \"btn_search\")))\n",
    "        search_button.click()\n",
    "        \n",
    "        try:\n",
    "            # Wait for the element with ID 'GridViewToCategory' to appear\n",
    "            element = WebDriverWait(driver, 1).until(\n",
    "                EC.presence_of_element_located((By.ID, \"GridViewToCategory\"))\n",
    "            )\n",
    "            \n",
    "            # Execute JavaScript to retrieve 'data' variable from the page if the element exists\n",
    "            script = \"\"\"\n",
    "                var table = $('#GridViewToCategory');\n",
    "            // Find the first <tr> inside the <tbody>\n",
    "            var firstRow = table.find('tbody').first().find('tr').first();\n",
    "            var headers = []\n",
    "\n",
    "            // Extract the text of every <th> element inside the first <tr>\n",
    "            firstRow.children('th').each(function() {\n",
    "                headers.push($(this).text().trim())\n",
    "            });\n",
    "\n",
    "            // Find all the <tr> elements starting from the second row\n",
    "            var rows = table.find('tbody').first().find('tr').not(':first');\n",
    "\n",
    "            count = 0\n",
    "            var data = []\n",
    "            var single_obj = {}\n",
    "            rows.each(function(rowIndex) {\n",
    "                $(this).children('td').each(function(cellIndex) {\n",
    "                    // Extract the direct text content from the <td> (ignoring nested tags)\n",
    "                    var textContent = $(this).text().replace(/\\s+/g, ' ').trim(); // Clean the text (remove excessive spaces)\n",
    "                    if(textContent.length > 0){\n",
    "                        if(count<16){\n",
    "                            single_obj[headers[count]] = textContent\n",
    "                        }else{\n",
    "                            var parts = textContent.split(':');\n",
    "                            var key = parts[0].trim(); // Key before the colon\n",
    "                            var value = parts[1].trim(); // Value after the colon\n",
    "                            single_obj[key] = value\n",
    "                        }\n",
    "                    count++;\n",
    "                    if(count == 25){\n",
    "                            count= 0;\n",
    "                            data.push(single_obj)\n",
    "                            single_obj = {}\n",
    "                    }\n",
    "                    }\n",
    "                });\n",
    "            });\n",
    "\n",
    "            return data\n",
    "            \"\"\"\n",
    "            \n",
    "            output = driver.execute_script(script)\n",
    "            data[course][year] = output\n",
    "\n",
    "        except Exception as e:\n",
    "            # Handle the case where 'GridViewToCategory' is not found within 10 seconds\n",
    "            print(e)\n",
    "print('here')\n",
    "driver.quit()"
   ]
  },
  {
   "cell_type": "code",
   "execution_count": 43,
   "metadata": {},
   "outputs": [
    {
     "name": "stdout",
     "output_type": "stream",
     "text": [
      "Options for ddlbrcode:\n",
      "\n",
      "Options for ddl_effFrom:\n",
      "['01 - COMPUTER (COMPUTER SCIENCE & ENGINEERING)', '02 - COMPUTER ENGINEERING', '03 - INSTRUMENTATION AND CONTROL(APPLIED INSTRUMENTATION)', '04 - ELECTRONICS AND COMMUNICATION ENGINEERING', '05 - ELECTRONICS AND COMMUNICATION (COMMUNICATION SYSTEM ENGINEERING)', '06 - ELECTRONICS AND COMMUNICATION (COMMUNICATION ENGINEERING)', '07 - ELECTRICAL ENGINEERING', '08 - MECHANICAL (CAD/CAM)', '09 - MECHANICAL (MACHINE DESIGN)', '10 - MECHANICAL (CRYOGENIC ENGINEERING)', '11 - MECHANICAL (I.C.ENGINE & AUTOMOBILE)', '12 - CIVIL ( WATER RESOURCES MANAGEMENT)', '13 - CIVIL (TRANSPORTATION ENGINEERING)', '14 - CIVIL (CONSTRUCTION ENGINEERING AND MANAGEMENT)', '15 - CIVIL (CASAD)', '16 - CHEMICAL ENGINEERING (COMPUTER AIDED PROCESS DESIGN)', '17 - ENVIRONMENTAL ENGINEERING', '18 - ENVIRONMENTAL MANAGEMENT', '19 - CIVIL (TRANSPORTATION SYSTEM ENGINEERING)', '20 - CIVIL (STRUCTURAL ENGINEERING)', '21 - MECHANICAL (THERMAL ENGINEERING)', '22 - ELECTRONICS AND COMMUNICATION (DIGITAL COMMUNICATIONS)', '23 - INFORMATION TECHNOLOGY', '24 - PLASTIC ENGINEERING', '25 - TEXTILE ENGINEERING', '26 - ELECTRONICS AND COMMUNICATION (SIGNAL PROCESSING AND VLSI TECHNOLOGY)', '27 - ELECTRONICS AND COMMUNICATION (WIRELESS COMMUNICATION SYSTEMS AND NETWORKS)', '28 - MECHANICAL (PRODUCTION ENGINEERING)', '29 - POWER ELECTRONICS', '30 - CHEMICAL ENGINEERING', '31 - BIO MEDICAL ENGINEERING', '32 - CIVIL (COMPUTER AIDED STRUCTURAL ANALYSIS)', '33 - CIVIL (WATER RESOURCE ENGINEERING)', '34 - MECHANICAL (THERMAL SCIENCE)', '35 - MECHANICAL (AUTOMOBILE ENGINEERING)', '36 - ME ELECTRICAL (AUTOMATION AND CONTROL POWER SYSTEM)', '37 - ELECTRICAL (POWER SYSTEM ENGINEERING)', '38 - COMPUTER (COMPUTER SCIENCE & TECHNOLOGY)', '39 - MECHANICAL (ENERGY ENGINEERING)', '40 - RUBBER ENGINEERING', '41 - ELECTRONICS AND COMMUNICATION (SIGNAL PROCESSING & COMMUNICATION)', '42 - ELECTRONICS AND COMMUNICATION (VLSI SYSTEM DESIGN)', '43 - CIVIL (GEOTECHNICAL ENGINEERING)', '44 - ELECTRONICS AND COMMUNICATION (WIRELESS COMMUNICATION TECHNOLOGY)', '45 - ELECTRICAL (POWER ELECTRONICS & ELECTRICAL DRIVES)', '46 - MECHANICAL (INDUSTRIAL ENGINEERING)', '47 - MECHATRONICS', '48 - TOWN AND COUNTRY PLANNING', '49 - CONSTRUCTION MANAGEMENT', '50 - ADVANCED MANUFACTURING SYSTEMS', '51 - COMPUTER ENGINEERING (IT SYSTEMS AND NETWORK SECURITY)', '52 - ELECTRONICS AND COMMUNICATION (VLSI & EMBEDDED SYSTEMS DESIGN)', '53 - COMPUTER ENGINEERING (WIRELESS & MOBILE COMPUTING)', '54 - ELECTRONICS AND COMMUNICATION (EMBEDDED SYSTEM)', '55 - COMPUTER ENGINEERING (HIGH PERFORMANCE COMPUTING)', '56 - COMPUTER ENGINEERING (SYSTEMS AND NETWORK SECURITY)', '59 - CYBER SECURITY', '60 - ELECTRONICS AND COMMUNICATION ENGINEERING (MOBILE COMMUNICATION AND NETWORK TECHNOLOGY)', '61 - EC (VLSI AND EMBEDDED SYSTEMS)', '62 - INTERNET OF THINGS', '63 - VLSI DESIGN', '64 - ELECTRIC VEHICLE TECHNOLOGY', '65 - CIVIL ENGINEERING', '66 - ADVANCED MANUFACTURING TECHNOLOGY', '67 - APPLIED INSTRUMENTATION', '68 - CAD/CAM', '69 - CIVIL ENGINEERING(TRANSPORTATION ENGINEERING)', '70 - COMPUTER AIDED DESIGN AND MANUFACTURE', '71 - COMPUTER AIDED DESIGN MANUFACTURE AND ENGINEERING', '72 - COMPUTER AIDED PROCESS DESIGN', '73 - COMPUTER ENGINEERING(SOFTWARE ENGINEERING)', '74 - CRYOGENIC ENGINEERING', '75 - ENERGY ENGINEERING', '76 - GEOTECHNICAL ENGINEERING', '77 - INFORMATION TECHNOLOGY(INFORMATION AND CYBER WARFARE)', '78 - MACHINE DESIGN', '79 - MECHANICAL ENGINEERING', '80 - MECHANICAL(I.C. ENGINE AND AUTOMOBILE ENGINEERING)', '81 - MECHANICAL ENGINEERING(CAD/CAM)', '82 - MECHANICAL ENGINEERING(PRODUCTION)', '83 - MECHANICAL ENGINEERING(THERMAL ENGINEERING)', '84 - PLASTICS ENGINEERING', '85 - POWER ELECTRONICS AND ELECTRICAL DRIVES', '86 - POWER SYSTEMS', '87 - PRODUCTION ENGINEERING', '88 - RUBBER TECHNOLOGY', '89 - STRUCTURAL ENGINEERING', '94 - ME (MECH) ARMAMENT ENGINEERING', '95 - ARTIFICIAL INTELLIGENCE AND DATA SCIENCE']\n",
      "['2024-25', '2023-24', '2022-23', '2021-22', '2019-20', '2018-19', '2017-18', '2014-15', '2013-14', '2012-13', '2011-12', '2010-11', '2009-10']\n"
     ]
    }
   ],
   "source": [
    "from selenium import webdriver\n",
    "from selenium.webdriver.chrome.options import Options\n",
    "from selenium.webdriver.chrome.service import Service\n",
    "from selenium.webdriver.support.ui import Select, WebDriverWait\n",
    "from selenium.webdriver.support import expected_conditions as EC\n",
    "from selenium.webdriver.common.by import By\n",
    "\n",
    "# Set up Chrome options and ChromeDriver service\n",
    "chrome_options = Options()\n",
    "chrome_options.add_argument(\"--headless\")  # Uncomment to run in headless mode\n",
    "chrome_options.add_argument(\"--no-sandbox\")\n",
    "chrome_options.add_argument(\"--disable-dev-shm-usage\")\n",
    "\n",
    "service = Service(\"/home/manav1011/Downloads/chromedriver-linux64/chromedriver\")\n",
    "driver = webdriver.Chrome(service=service, options=chrome_options)\n",
    "\n",
    "# Navigate to the webpage\n",
    "driver.get(\"https://syllabus.gtu.ac.in/Syllabus.aspx?tp=ME\")\n",
    "WebDriverWait(driver, 10).until(EC.presence_of_element_located((By.ID, \"ddcourse\")))\n",
    "\n",
    "dropdown1 = Select(driver.find_element(By.ID, \"ddlbrcode\"))\n",
    "options1 = dropdown1.options\n",
    "courses = []\n",
    "\n",
    "dropdown2 = Select(driver.find_element(By.ID, \"ddl_effFrom\"))\n",
    "options2 = dropdown2.options\n",
    "years = []\n",
    "\n",
    "# Print the options for ddlbrcode\n",
    "print(\"Options for ddlbrcode:\")\n",
    "for option in options1[1:]:\n",
    "    courses.append(option.text)\n",
    "    \n",
    "print(\"\\nOptions for ddl_effFrom:\")\n",
    "for option in options2[1:]:\n",
    "    years.append(option.text)\n",
    "\n",
    "print(courses)\n",
    "print(years)\n",
    "driver.quit()"
   ]
  },
  {
   "cell_type": "code",
   "execution_count": 49,
   "metadata": {},
   "outputs": [
    {
     "name": "stdout",
     "output_type": "stream",
     "text": [
      "{'Category': 'Compulsory', 'Elective Subject': 'No', 'IsTheory': 'Yes', 'Theory Exam Duration': '2.5', 'IsPractical': 'No', 'Practical Exam Duration': '0', 'Remark': 'N/A', 'Isfunctional': 'No', 'isSemipractical': 'No'}\n"
     ]
    }
   ],
   "source": [
    "import re\n",
    "\n",
    "# Input string\n",
    "text = \"Category :Compulsory Elective Subject: No IsTheory : Yes Theory Exam Duration : 2.5 IsPractical :No Practical Exam Duration :0 Remark : N/A Isfunctional :No isSemipractical : No\"\n",
    "\n",
    "# Regex to match key-value pairs where keys can contain spaces, and values may have multiple words\n",
    "pattern = r\"([a-zA-Z\\s]+)\\s*:\\s*([^\\:]+?)(?=\\s+[a-zA-Z\\s]+:|$)\"\n",
    "\n",
    "# Find all matches\n",
    "matches = re.findall(pattern, text)\n",
    "\n",
    "# Create a dictionary from the matches\n",
    "result = {key.strip(): value.strip() for key, value in matches}\n",
    "\n",
    "# Print the result\n",
    "print(result)"
   ]
  }
 ],
 "metadata": {
  "kernelspec": {
   "display_name": "venv",
   "language": "python",
   "name": "python3"
  },
  "language_info": {
   "codemirror_mode": {
    "name": "ipython",
    "version": 3
   },
   "file_extension": ".py",
   "mimetype": "text/x-python",
   "name": "python",
   "nbconvert_exporter": "python",
   "pygments_lexer": "ipython3",
   "version": "3.12.3"
  }
 },
 "nbformat": 4,
 "nbformat_minor": 2
}
