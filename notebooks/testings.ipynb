{
 "cells": [
  {
   "cell_type": "code",
   "execution_count": 4,
   "metadata": {},
   "outputs": [],
   "source": [
    "import json\n",
    "import os\n",
    "import django\n",
    "import sys\n",
    "sys.path.append('..')\n",
    "os.environ.setdefault('DJANGO_SETTINGS_MODULE', 'SMARTROLL.settings')\n",
    "os.environ[\"DJANGO_ALLOW_ASYNC_UNSAFE\"] = \"true\"\n",
    "os.environ.setdefault('DJANGO_SETTINGS_MODULE', 'SMARTROLL.settings')\n",
    "django.setup()\n",
    "from Manage.models import College,Term,Branch,Stream,Semester,Division,Batch,Subject,TimeTable,GPSCoordinates,Classroom,Schedule,Lecture,Link,PermanentSubject,SubjectChoices,ComplementrySubjects,SubjectGroups\n",
    "from Manage.serializers import PermanentSubjectSerializer\n",
    "from StakeHolders.serializers import StudentSerializer\n",
    "from Session.models import Attendance,Session\n",
    "from StakeHolders.models import NotificationSubscriptions,SuperAdmin,Admin,Teacher,Student,Profile\n",
    "from django.contrib.auth import get_user_model\n",
    "import datetime\n",
    "import pandas as pd\n",
    "import string\n",
    "from django.db.models import Count, Q\n",
    "from django.core.cache import cache"
   ]
  },
  {
   "cell_type": "code",
   "execution_count": 25,
   "metadata": {},
   "outputs": [
    {
     "ename": "AttributeError",
     "evalue": "'Subject' object has no attribute 'ordered_finalized_subjects'",
     "output_type": "error",
     "traceback": [
      "\u001b[0;31m---------------------------------------------------------------------------\u001b[0m",
      "\u001b[0;31mAttributeError\u001b[0m                            Traceback (most recent call last)",
      "Cell \u001b[0;32mIn[25], line 5\u001b[0m\n\u001b[1;32m      2\u001b[0m finalized_subjects_set \u001b[38;5;241m=\u001b[39m subject_choice\u001b[38;5;241m.\u001b[39mfinalized_choices\u001b[38;5;241m.\u001b[39morder_by(\u001b[38;5;124m'\u001b[39m\u001b[38;5;124morderedfinalizedsubject__ordering\u001b[39m\u001b[38;5;124m'\u001b[39m)\n\u001b[1;32m      3\u001b[0m \u001b[38;5;28;01mfor\u001b[39;00m subject \u001b[38;5;129;01min\u001b[39;00m finalized_subjects_set:\n\u001b[1;32m      4\u001b[0m         \u001b[38;5;66;03m# Access the related ordering object\u001b[39;00m\n\u001b[0;32m----> 5\u001b[0m         ordering_relation \u001b[38;5;241m=\u001b[39m \u001b[43msubject\u001b[49m\u001b[38;5;241;43m.\u001b[39;49m\u001b[43mordered_finalized_subjects\u001b[49m\u001b[38;5;241m.\u001b[39mfirst()  \u001b[38;5;66;03m# Use correct related_name\u001b[39;00m\n\u001b[1;32m      6\u001b[0m         \u001b[38;5;28;01mif\u001b[39;00m ordering_relation:\n\u001b[1;32m      7\u001b[0m             ordering_value \u001b[38;5;241m=\u001b[39m ordering_relation\u001b[38;5;241m.\u001b[39mordering\n",
      "\u001b[0;31mAttributeError\u001b[0m: 'Subject' object has no attribute 'ordered_finalized_subjects'"
     ]
    }
   ],
   "source": [
    "subject_choice = SubjectChoices.objects.filter(slug='9bd05bff4e0d43db_1731959900012').first()\n",
    "finalized_subjects_set = subject_choice.finalized_choices.order_by('orderedfinalizedsubject__ordering')\n",
    "for subject in finalized_subjects_set:\n",
    "        # Access the related ordering object\n",
    "        ordering_relation = subject.ordered_finalized_subjects.first()  # Use correct related_name\n",
    "        if ordering_relation:\n",
    "            ordering_value = ordering_relation.ordering\n",
    "            print(f\"Subject: {subject}, Ordering: {ordering_value}\")\n",
    "        else:\n",
    "            print(f\"Subject: {subject}, No ordering relation found\")"
   ]
  },
  {
   "cell_type": "code",
   "execution_count": 4,
   "metadata": {},
   "outputs": [],
   "source": [
    "\n",
    "file_path='/home/manav1011/Documents/SMARTROLL_SSIP_2023/SMARTROLL/notebooks/sheets/electives.xlsx'"
   ]
  },
  {
   "cell_type": "code",
   "execution_count": 5,
   "metadata": {},
   "outputs": [],
   "source": [
    "sheet_names = pd.ExcelFile(file_path).sheet_names\n",
    "CD = pd.read_excel(file_path, sheet_name='CD')\n",
    "AI = pd.read_excel(file_path, sheet_name='AI')\n",
    "ML = pd.read_excel(file_path, sheet_name='ML')\n",
    "BDA = pd.read_excel(file_path, sheet_name='BDA')\n",
    "IS = pd.read_excel(file_path, sheet_name='IS')\n",
    "MCWC = pd.read_excel(file_path, sheet_name='MCWC')\n",
    "CC = pd.read_excel(file_path, sheet_name='CC')\n",
    "MAD = pd.read_excel(file_path, sheet_name='MAD')\n",
    "DF = pd.read_excel(file_path, sheet_name='DF')"
   ]
  },
  {
   "cell_type": "code",
   "execution_count": 6,
   "metadata": {},
   "outputs": [],
   "source": [
    "semester_obj = Semester.objects.get(slug='914150_1731255589')"
   ]
  },
  {
   "cell_type": "code",
   "execution_count": 7,
   "metadata": {},
   "outputs": [],
   "source": [
    "def update_student_subjects(df, subject_slug):\n",
    "    subject = Subject.objects.get(slug=subject_slug)\n",
    "    for _, row in df.iterrows():\n",
    "        # get the student obj\n",
    "        student_obj = Student.objects.get(enrollment=row['enrollment'])\n",
    "        # get the subject choice \n",
    "        subject_choices_obj = SubjectChoices.objects.get(semester=semester_obj,profile=student_obj.profile)\n",
    "        if subject.is_elective:\n",
    "            complementries = ComplementrySubjects.objects.filter(subjects=subject).first().subjects.exclude(id=subject.id)\n",
    "            for complementry in complementries:\n",
    "                subject_choices_obj.available_choices.remove(complementry)\n",
    "        subject_choices_obj.finalized_choices.add(subject, through_defaults={'ordering': 1})\n",
    "        subject_choices_obj.available_choices.remove(subject)\n",
    "        subject_choices_obj.choices_locked=True\n",
    "        subject_choices_obj.save()\n",
    "        "
   ]
  },
  {
   "cell_type": "code",
   "execution_count": 8,
   "metadata": {},
   "outputs": [
    {
     "name": "stdout",
     "output_type": "stream",
     "text": [
      "Compiler Design  -  0ebc225d449b4ae8_1731920560117\n",
      "Mobile Computing and Wireless Communication  -  4551cd1bba6745cd_1731920560143\n",
      "Cloud Computing  -  91d52b69e60149a5_1731920560174\n",
      "Artificial Intelligence  -  8fb17e6790924fcd_1731920560223\n",
      "Big Data Analytics  -  780ed459211a4c5d_1731920560299\n",
      "Machine Learning  -  06c3643d71714da0_1731920560328\n",
      "Digital forensics  -  5bd48d21484048c4_1731920560358\n",
      "Mobile Application Development  -  5918c532c1e14410_1731920560378\n",
      "Information security  -  a59eeda75ce3430c_1731920560261\n"
     ]
    }
   ],
   "source": [
    "subjects=Subject.objects.filter(semester=semester_obj)\n",
    "for subject in subjects:\n",
    "    print(subject.subject_map.subject_name ,\" - \", subject.slug)"
   ]
  },
  {
   "cell_type": "code",
   "execution_count": 10,
   "metadata": {},
   "outputs": [],
   "source": [
    "update_student_subjects(ML,'06c3643d71714da0_1731920560328')\n",
    "update_student_subjects(BDA,'780ed459211a4c5d_1731920560299')\n",
    "update_student_subjects(IS,'a59eeda75ce3430c_1731920560261')\n",
    "update_student_subjects(MCWC,'4551cd1bba6745cd_1731920560143')\n",
    "update_student_subjects(CC,'91d52b69e60149a5_1731920560174')\n",
    "update_student_subjects(MAD,'5918c532c1e14410_1731920560378')\n",
    "update_student_subjects(DF,'5bd48d21484048c4_1731920560358')\n",
    "update_student_subjects(AI,'8fb17e6790924fcd_1731920560223')\n",
    "update_student_subjects(CD,'0ebc225d449b4ae8_1731920560117')"
   ]
  },
  {
   "cell_type": "code",
   "execution_count": 11,
   "metadata": {},
   "outputs": [
    {
     "name": "stdout",
     "output_type": "stream",
     "text": [
      "<QuerySet [<SubjectGroups: Semester - 7 | Stream - BE | COMPUTER ENGINEERING | Term - 2024 | 2025>]>\n"
     ]
    }
   ],
   "source": [
    "subject_groups = {}\n",
    "student_subject_choices = SubjectChoices.objects.filter(\n",
    "    semester=semester_obj, \n",
    "    profile__role='student'\n",
    ").order_by('profile__student__enrollment')\n",
    "for subject_choice_obj in student_subject_choices:\n",
    "    student = subject_choice_obj.profile.student_set.first()\n",
    "    subject_group = subject_choice_obj.finalized_choices.all()\n",
    "    subject_group_tuple = tuple(subject_group)\n",
    "    if subject_group_tuple not in subject_groups:\n",
    "        subject_groups[subject_group_tuple] = [student]\n",
    "    else:\n",
    "        subject_groups[subject_group_tuple].append(student)\n",
    "\n",
    "for subjects,students in subject_groups.items():    \n",
    "    subject_groups = SubjectGroups.objects.filter(semester=semester_obj,subjects__in=subjects)\n",
    "    subject_ids = [subject.id for subject in subjects]\n",
    "    matching_groups = SubjectGroups.objects.filter(\n",
    "        semester=semester_obj,  # Match semester\n",
    "        subjects__id__in=subject_ids  # Include the specified subjects\n",
    "    ).annotate(subject_count=Count('subjects')).filter(subject_count=len(subject_ids))\n",
    "    if not matching_groups.exists():\n",
    "        subject_group_obj = SubjectGroups.objects.create(semester=semester_obj)\n",
    "        subject_group_obj.subjects.add(*subjects)\n",
    "        subject_group_obj.students.add(*students)\n",
    "    else:\n",
    "        print(matching_groups)"
   ]
  },
  {
   "cell_type": "code",
   "execution_count": 2,
   "metadata": {},
   "outputs": [],
   "source": [
    "from django.core.mail import EmailMessage\n",
    "from django.template.loader import render_to_string\n",
    "def send_welcome_email(user_email, user_name, temp_password, login_url):\n",
    "    # Create the email subject\n",
    "    subject = 'Welcome to Smartroll'\n",
    "\n",
    "    # Prepare context for HTML email template\n",
    "    context = {\n",
    "        'user_name': user_name,\n",
    "        'temporary_password': temp_password,\n",
    "        'login_url': login_url,\n",
    "    }\n",
    "\n",
    "    # Render the HTML content using the template string\n",
    "    html_message = render_to_string('temppassword.html', context)\n",
    "\n",
    "    # Create the email message\n",
    "    email = EmailMessage(\n",
    "        subject=subject,\n",
    "        body=html_message,\n",
    "        from_email='smartroll.hq@gmail.com',  # Replace with your email\n",
    "        to=[user_email],  # Recipient's email\n",
    "    )    \n",
    "    email.content_subtype = 'html'\n",
    "    email.send()\n",
    "    print(\"Email sent successfully.\")"
   ]
  },
  {
   "cell_type": "code",
   "execution_count": 3,
   "metadata": {},
   "outputs": [
    {
     "name": "stdout",
     "output_type": "stream",
     "text": [
      "Email sent successfully.\n",
      "Email sent successfully.\n",
      "Email sent successfully.\n",
      "Email sent successfully.\n",
      "Email sent successfully.\n"
     ]
    }
   ],
   "source": [
    "send_welcome_email('manavshah1011.ms@gmail.com','Manav Shah','skmakdga','smartroll@mnv-dev.live')\n",
    "send_welcome_email('parmarharsh901@gmail.com','Harsh Parmar','skmakdga','smartroll@mnv-dev.live')\n",
    "send_welcome_email('amansevak123@gmail.com','Aman Bhatt','skmakdga','smartroll@mnv-dev.live')\n",
    "send_welcome_email('pandyaprathmesh360@gmail.com','Prathmesh Pandya','skmakdga','smartroll@mnv-dev.live')\n",
    "send_welcome_email('dhrumilpanchal1434@gmail.com','Dhrumil Panchal','skmakdga','smartroll@mnv-dev.live')"
   ]
  }
 ],
 "metadata": {
  "kernelspec": {
   "display_name": "venv",
   "language": "python",
   "name": "python3"
  },
  "language_info": {
   "codemirror_mode": {
    "name": "ipython",
    "version": 3
   },
   "file_extension": ".py",
   "mimetype": "text/x-python",
   "name": "python",
   "nbconvert_exporter": "python",
   "pygments_lexer": "ipython3",
   "version": "3.12.3"
  }
 },
 "nbformat": 4,
 "nbformat_minor": 2
}
