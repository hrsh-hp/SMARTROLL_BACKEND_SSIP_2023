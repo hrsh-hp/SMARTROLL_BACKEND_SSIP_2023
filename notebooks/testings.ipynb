{
 "cells": [
  {
   "cell_type": "code",
   "execution_count": 1,
   "metadata": {},
   "outputs": [],
   "source": [
    "import json\n",
    "import os\n",
    "import django\n",
    "import sys\n",
    "sys.path.append('..')\n",
    "os.environ.setdefault('DJANGO_SETTINGS_MODULE', 'SMARTROLL.settings')\n",
    "os.environ[\"DJANGO_ALLOW_ASYNC_UNSAFE\"] = \"true\"\n",
    "os.environ.setdefault('DJANGO_SETTINGS_MODULE', 'SMARTROLL.settings')\n",
    "django.setup()\n",
    "from Manage.models import College,Term,Branch,Stream,Semester,Division,Batch,Subject,TimeTable,GPSCoordinates,Classroom,Schedule,Lecture,Link,PermanentSubject,SubjectChoices\n",
    "from Session.models import Attendance,Session\n",
    "from StakeHolders.models import NotificationSubscriptions,SuperAdmin,Admin,Teacher,Student,Profile\n",
    "from django.contrib.auth import get_user_model"
   ]
  },
  {
   "cell_type": "code",
   "execution_count": 13,
   "metadata": {},
   "outputs": [
    {
     "data": {
      "text/plain": [
       "<Semester: Semester - 7 | Stream - BE | COMPUTER ENGINEERING | Term - 2024 | 2025>"
      ]
     },
     "execution_count": 13,
     "metadata": {},
     "output_type": "execute_result"
    }
   ],
   "source": [
    "student_obj = Student.objects.get(enrollment=220283107033)\n",
    "# get the semester form current term\n",
    "term_obj = Term.objects.filter(status=True).first()\n",
    "students_semester = Semester.objects.get(stream__branch__term=term_obj,students=student_obj)\n",
    "students_semester"
   ]
  },
  {
   "cell_type": "code",
   "execution_count": 6,
   "metadata": {},
   "outputs": [],
   "source": [
    "student_obj = Student.objects.get(enrollment=220283107033)\n",
    "student_obj.profile.set_password('Manav@1011')\n",
    "student_obj.profile.save()"
   ]
  },
  {
   "cell_type": "code",
   "execution_count": 13,
   "metadata": {},
   "outputs": [
    {
     "data": {
      "text/plain": [
       "[<Subject: Mobile Computing and Wireless Communication | Semester - 7 | Stream - BE | COMPUTER ENGINEERING | Term - 2024 | 2025>,\n",
       " <Subject: Cloud Computing | Semester - 7 | Stream - BE | COMPUTER ENGINEERING | Term - 2024 | 2025>,\n",
       " <Subject: Information security | Semester - 7 | Stream - BE | COMPUTER ENGINEERING | Term - 2024 | 2025>,\n",
       " <Subject: Big Data Analytics | Semester - 7 | Stream - BE | COMPUTER ENGINEERING | Term - 2024 | 2025>,\n",
       " <Subject: Machine Learning | Semester - 7 | Stream - BE | COMPUTER ENGINEERING | Term - 2024 | 2025>,\n",
       " <Subject: Digital forensics | Semester - 7 | Stream - BE | COMPUTER ENGINEERING | Term - 2024 | 2025>,\n",
       " <Subject: Mobile Application Development | Semester - 7 | Stream - BE | COMPUTER ENGINEERING | Term - 2024 | 2025>]"
      ]
     },
     "execution_count": 13,
     "metadata": {},
     "output_type": "execute_result"
    }
   ],
   "source": [
    "subjects = filter(lambda subject:subject.subject_map.is_elective,subjects)\n",
    "list(subjects)"
   ]
  }
 ],
 "metadata": {
  "kernelspec": {
   "display_name": "venv",
   "language": "python",
   "name": "python3"
  },
  "language_info": {
   "codemirror_mode": {
    "name": "ipython",
    "version": 3
   },
   "file_extension": ".py",
   "mimetype": "text/x-python",
   "name": "python",
   "nbconvert_exporter": "python",
   "pygments_lexer": "ipython3",
   "version": "3.12.3"
  }
 },
 "nbformat": 4,
 "nbformat_minor": 2
}
