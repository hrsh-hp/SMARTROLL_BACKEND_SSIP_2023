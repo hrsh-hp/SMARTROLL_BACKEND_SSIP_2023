{
 "cells": [
  {
   "cell_type": "code",
   "execution_count": 9,
   "metadata": {},
   "outputs": [],
   "source": [
    "import json\n",
    "import os\n",
    "import django\n",
    "import sys\n",
    "sys.path.append('..')\n",
    "os.environ.setdefault('DJANGO_SETTINGS_MODULE', 'SMARTROLL.settings')\n",
    "os.environ[\"DJANGO_ALLOW_ASYNC_UNSAFE\"] = \"true\"\n",
    "os.environ.setdefault('DJANGO_SETTINGS_MODULE', 'SMARTROLL.settings')\n",
    "django.setup()\n",
    "from Manage.models import College,Term,Branch,Stream,Semester,Division,Batch,Subject,TimeTable,GPSCoordinates,Classroom,Schedule,Lecture,Link,PermanentSubject,SubjectChoices\n",
    "from Session.models import Attendance,Session\n",
    "from StakeHolders.models import NotificationSubscriptions,SuperAdmin,Admin,Teacher,Student,Profile\n",
    "from django.contrib.auth import get_user_model\n",
    "import datetime\n",
    "import pandas as pd\n",
    "import string"
   ]
  },
  {
   "cell_type": "code",
   "execution_count": 14,
   "metadata": {},
   "outputs": [
    {
     "data": {
      "text/plain": [
       "<QuerySet []>"
      ]
     },
     "execution_count": 14,
     "metadata": {},
     "output_type": "execute_result"
    }
   ],
   "source": [
    "subject_choice = SubjectChoices.objects.filter(profile=Profile.objects.get(email='22csman033@ldce.ac.in')).first()\n",
    "subject_choice.finalized_choices.all()"
   ]
  }
 ],
 "metadata": {
  "kernelspec": {
   "display_name": "venv",
   "language": "python",
   "name": "python3"
  },
  "language_info": {
   "codemirror_mode": {
    "name": "ipython",
    "version": 3
   },
   "file_extension": ".py",
   "mimetype": "text/x-python",
   "name": "python",
   "nbconvert_exporter": "python",
   "pygments_lexer": "ipython3",
   "version": "3.12.3"
  }
 },
 "nbformat": 4,
 "nbformat_minor": 2
}
