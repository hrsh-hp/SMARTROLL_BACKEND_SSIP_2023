{
 "cells": [
  {
   "cell_type": "code",
   "execution_count": 2,
   "metadata": {},
   "outputs": [],
   "source": [
    "import json\n",
    "import os\n",
    "import django\n",
    "import sys\n",
    "sys.path.append('..')\n",
    "os.environ.setdefault('DJANGO_SETTINGS_MODULE', 'SMARTROLL.settings')\n",
    "os.environ[\"DJANGO_ALLOW_ASYNC_UNSAFE\"] = \"true\"\n",
    "os.environ.setdefault('DJANGO_SETTINGS_MODULE', 'SMARTROLL.settings')\n",
    "django.setup()\n",
    "from Manage.models import College,Term,Branch,Stream,Semester,Division,Batch,Subject,TimeTable,GPSCoordinates,Classroom,Schedule,Lecture,Link,PermanentSubject,SubjectChoices,ComplementrySubjects,SubjectGroups\n",
    "from Manage.serializers import PermanentSubjectSerializer\n",
    "from StakeHolders.serializers import StudentSerializer\n",
    "from Session.models import Attendance,Session\n",
    "from StakeHolders.models import NotificationSubscriptions,SuperAdmin,Admin,Teacher,Student,Profile\n",
    "from django.contrib.auth import get_user_model\n",
    "import datetime\n",
    "import pandas as pd\n",
    "import string\n",
    "from django.db.models import Count, Q\n",
    "from django.core.cache import cache"
   ]
  },
  {
   "cell_type": "code",
   "execution_count": 8,
   "metadata": {},
   "outputs": [],
   "source": [
    "\n",
    "# file_path='/home/manav1011/Documents/SMARTROLL_SSIP_2023/SMARTROLL/notebooks/sheets/electives.xlsx'"
   ]
  },
  {
   "cell_type": "code",
   "execution_count": 43,
   "metadata": {},
   "outputs": [],
   "source": [
    "# sheet_names = pd.ExcelFile(file_path).sheet_names\n",
    "# CD = pd.read_excel(file_path, sheet_name='CD')\n",
    "# AI = pd.read_excel(file_path, sheet_name='AI')\n",
    "# ML = pd.read_excel(file_path, sheet_name='ML')\n",
    "# BDA = pd.read_excel(file_path, sheet_name='BDA')\n",
    "# IS = pd.read_excel(file_path, sheet_name='IS')\n",
    "# MCWC = pd.read_excel(file_path, sheet_name='MCWC')\n",
    "# CC = pd.read_excel(file_path, sheet_name='CC')\n",
    "# MAD = pd.read_excel(file_path, sheet_name='MAD')\n",
    "# DF = pd.read_excel(file_path, sheet_name='DF')"
   ]
  },
  {
   "cell_type": "code",
   "execution_count": 3,
   "metadata": {},
   "outputs": [],
   "source": [
    "# semester_obj = Semester.objects.get(slug='914150_1731255589')"
   ]
  },
  {
   "cell_type": "code",
   "execution_count": 44,
   "metadata": {},
   "outputs": [],
   "source": [
    "# def update_student_subjects(df, subject_slug):\n",
    "#     subject = Subject.objects.get(slug=subject_slug)\n",
    "#     for _, row in df.iterrows():\n",
    "#         # get the student obj\n",
    "#         student_obj = Student.objects.get(enrollment=row['enrollment'])\n",
    "#         # get the subject choice \n",
    "#         subject_choices_obj = SubjectChoices.objects.get(semester=semester_obj,profile=student_obj.profile)\n",
    "#         if subject.is_elective:\n",
    "#             complementries = ComplementrySubjects.objects.filter(subjects=subject).first().subjects.exclude(id=subject.id)\n",
    "#             for complementry in complementries:\n",
    "#                 subject_choices_obj.available_choices.remove(complementry)\n",
    "#         subject_choices_obj.finalized_choices.add(subject, through_defaults={'ordering': 1})\n",
    "#         subject_choices_obj.available_choices.remove(subject)\n",
    "#         subject_choices_obj.choices_locked=True\n",
    "#         subject_choices_obj.save()\n",
    "        "
   ]
  },
  {
   "cell_type": "code",
   "execution_count": 30,
   "metadata": {},
   "outputs": [],
   "source": [
    "# update_student_subjects(ML,'6ef70799c9ae43a4_1731754809170')\n",
    "# update_student_subjects(BDA,'5036c4b9676f4b3e_1731754809147')\n",
    "# update_student_subjects(IS,'d9812217e8f340bc_1731754809118')\n",
    "# update_student_subjects(MCWC,'db50d89275dd4554_1731754809055')\n",
    "# update_student_subjects(CC,'f28dea5545704a85_1731754809070')\n",
    "# update_student_subjects(MAD,'2de0779cc80349c9_1731754809205')\n",
    "# update_student_subjects(DF,'b168461190a2448b_1731754809192')\n",
    "# update_student_subjects(AI,'e34706e899c54e05_1731754809095')\n",
    "# update_student_subjects(CD,'29eb289938724960_1731754809047')"
   ]
  },
  {
   "cell_type": "code",
   "execution_count": 8,
   "metadata": {},
   "outputs": [
    {
     "name": "stdout",
     "output_type": "stream",
     "text": [
      "Semester - 7 | Stream - BE | COMPUTER ENGINEERING | Term - 2024 | 2025\n",
      "Semester - 7 | Stream - BE | COMPUTER ENGINEERING | Term - 2024 | 2025\n",
      "Semester - 7 | Stream - BE | COMPUTER ENGINEERING | Term - 2024 | 2025\n",
      "Semester - 7 | Stream - BE | COMPUTER ENGINEERING | Term - 2024 | 2025\n",
      "Semester - 7 | Stream - BE | COMPUTER ENGINEERING | Term - 2024 | 2025\n",
      "Semester - 7 | Stream - BE | COMPUTER ENGINEERING | Term - 2024 | 2025\n",
      "Semester - 7 | Stream - BE | COMPUTER ENGINEERING | Term - 2024 | 2025\n",
      "Semester - 7 | Stream - BE | COMPUTER ENGINEERING | Term - 2024 | 2025\n"
     ]
    }
   ],
   "source": [
    "# subject_groups = {}\n",
    "# student_subject_choices = SubjectChoices.objects.filter(\n",
    "#     semester=semester_obj, \n",
    "#     profile__role='student'\n",
    "# ).order_by('profile__student__enrollment')\n",
    "# for subject_choice_obj in student_subject_choices:\n",
    "#     student = subject_choice_obj.profile.student_set.first()\n",
    "#     subject_group = subject_choice_obj.finalized_choices.all()\n",
    "#     subject_group_tuple = tuple(subject_group)\n",
    "#     if subject_group_tuple not in subject_groups:\n",
    "#         subject_groups[subject_group_tuple] = [student]\n",
    "#     else:\n",
    "#         subject_groups[subject_group_tuple].append(student)\n",
    "\n",
    "# for subjects,students in subject_groups.items():    \n",
    "#     subject_groups = SubjectGroups.objects.filter(semester=semester_obj,subjects__in=subjects)\n",
    "#     subject_ids = [subject.id for subject in subjects]\n",
    "#     matching_groups = SubjectGroups.objects.filter(\n",
    "#         semester=semester_obj,  # Match semester\n",
    "#         subjects__id__in=subject_ids  # Include the specified subjects\n",
    "#     ).annotate(subject_count=Count('subjects')).filter(subject_count=len(subject_ids))\n",
    "#     if not matching_groups.exists():\n",
    "#         subject_group_obj = SubjectGroups.objects.create(semester=semester_obj)\n",
    "#         subject_group_obj.subjects.add(*subjects)\n",
    "#         subject_group_obj.students.add(*students)\n",
    "#     else:\n",
    "#         print(matching_groups)"
   ]
  },
  {
   "cell_type": "code",
   "execution_count": 3,
   "metadata": {},
   "outputs": [],
   "source": [
    "cache.set('my_key', 'Hello, Redis!', timeout=60)"
   ]
  },
  {
   "cell_type": "code",
   "execution_count": 5,
   "metadata": {},
   "outputs": [
    {
     "data": {
      "text/plain": [
       "'Hello, Redis!'"
      ]
     },
     "execution_count": 5,
     "metadata": {},
     "output_type": "execute_result"
    }
   ],
   "source": [
    "value = cache.get('my_key')\n",
    "value"
   ]
  }
 ],
 "metadata": {
  "kernelspec": {
   "display_name": "venv",
   "language": "python",
   "name": "python3"
  },
  "language_info": {
   "codemirror_mode": {
    "name": "ipython",
    "version": 3
   },
   "file_extension": ".py",
   "mimetype": "text/x-python",
   "name": "python",
   "nbconvert_exporter": "python",
   "pygments_lexer": "ipython3",
   "version": "3.12.3"
  }
 },
 "nbformat": 4,
 "nbformat_minor": 2
}
